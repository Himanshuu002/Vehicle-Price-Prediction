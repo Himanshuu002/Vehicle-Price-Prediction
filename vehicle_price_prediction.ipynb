{
  "metadata": {
    "kernelspec": {
      "language": "python",
      "display_name": "Python 3",
      "name": "python3"
    },
    "language_info": {
      "name": "python",
      "version": "3.11.13",
      "mimetype": "text/x-python",
      "codemirror_mode": {
        "name": "ipython",
        "version": 3
      },
      "pygments_lexer": "ipython3",
      "nbconvert_exporter": "python",
      "file_extension": ".py"
    },
    "kaggle": {
      "accelerator": "none",
      "dataSources": [
        {
          "sourceId": 12610544,
          "sourceType": "datasetVersion",
          "datasetId": 7965905
        }
      ],
      "dockerImageVersionId": 31089,
      "isInternetEnabled": true,
      "language": "python",
      "sourceType": "notebook",
      "isGpuEnabled": false
    },
    "colab": {
      "name": "vehicle_price_prediction",
      "provenance": [],
      "include_colab_link": true
    }
  },
  "nbformat_minor": 0,
  "nbformat": 4,
  "cells": [
    {
      "cell_type": "markdown",
      "metadata": {
        "id": "view-in-github",
        "colab_type": "text"
      },
      "source": [
        "<a href=\"https://colab.research.google.com/github/Himanshuu002/Vehicle-Price-Prediction/blob/main/vehicle_price_prediction.ipynb\" target=\"_parent\"><img src=\"https://colab.research.google.com/assets/colab-badge.svg\" alt=\"Open In Colab\"/></a>"
      ]
    },
    {
      "source": [
        "# IMPORTANT: SOME KAGGLE DATA SOURCES ARE PRIVATE\n",
        "# RUN THIS CELL IN ORDER TO IMPORT YOUR KAGGLE DATA SOURCES.\n",
        "import kagglehub\n",
        "kagglehub.login()\n"
      ],
      "metadata": {
        "id": "td12cvQUSyhJ"
      },
      "cell_type": "code",
      "outputs": [],
      "execution_count": null
    },
    {
      "source": [
        "# IMPORTANT: RUN THIS CELL IN ORDER TO IMPORT YOUR KAGGLE DATA SOURCES,\n",
        "# THEN FEEL FREE TO DELETE THIS CELL.\n",
        "# NOTE: THIS NOTEBOOK ENVIRONMENT DIFFERS FROM KAGGLE'S PYTHON\n",
        "# ENVIRONMENT SO THERE MAY BE MISSING LIBRARIES USED BY YOUR\n",
        "# NOTEBOOK.\n",
        "\n",
        "imhimanshu02_vechile_price_data_path = kagglehub.dataset_download('imhimanshu02/vechile-price-data')\n",
        "\n",
        "print('Data source import complete.')\n"
      ],
      "metadata": {
        "id": "QmFa98a0SyhM"
      },
      "cell_type": "code",
      "outputs": [],
      "execution_count": null
    },
    {
      "cell_type": "markdown",
      "source": [
        "## Step 1: Importing Required Libraries"
      ],
      "metadata": {
        "id": "xTzECMh-SyhM"
      }
    },
    {
      "cell_type": "code",
      "source": [
        "import pandas as pd\n",
        "import numpy as np\n",
        "import matplotlib.pyplot as plt\n",
        "import seaborn as sns\n",
        "from sklearn.linear_model import LinearRegression\n",
        "from sklearn.ensemble import RandomForestRegressor\n",
        "from sklearn.metrics import mean_absolute_error, mean_squared_error, r2_score"
      ],
      "metadata": {
        "trusted": true,
        "execution": {
          "iopub.status.busy": "2025-08-06T11:39:43.158985Z",
          "iopub.execute_input": "2025-08-06T11:39:43.159277Z",
          "iopub.status.idle": "2025-08-06T11:39:45.137544Z",
          "shell.execute_reply.started": "2025-08-06T11:39:43.159254Z",
          "shell.execute_reply": "2025-08-06T11:39:45.136556Z"
        },
        "id": "1A3w9_P8SyhN"
      },
      "outputs": [],
      "execution_count": null
    },
    {
      "cell_type": "markdown",
      "source": [
        "## Step 2: Load the Dataset and Initial Exploration"
      ],
      "metadata": {
        "id": "WxsIG9SOSyhN"
      }
    },
    {
      "cell_type": "code",
      "source": [
        "df=pd.read_csv(\"/kaggle/input/vechile-price-data/dataset.csv\")"
      ],
      "metadata": {
        "trusted": true,
        "execution": {
          "iopub.status.busy": "2025-08-06T11:39:45.138742Z",
          "iopub.execute_input": "2025-08-06T11:39:45.139433Z",
          "iopub.status.idle": "2025-08-06T11:39:45.246527Z",
          "shell.execute_reply.started": "2025-08-06T11:39:45.139407Z",
          "shell.execute_reply": "2025-08-06T11:39:45.245829Z"
        },
        "id": "tMjN7fT7SyhN"
      },
      "outputs": [],
      "execution_count": null
    },
    {
      "cell_type": "code",
      "source": [
        "df.head()"
      ],
      "metadata": {
        "trusted": true,
        "execution": {
          "iopub.status.busy": "2025-08-06T11:39:45.247368Z",
          "iopub.execute_input": "2025-08-06T11:39:45.247582Z",
          "iopub.status.idle": "2025-08-06T11:39:45.278613Z",
          "shell.execute_reply.started": "2025-08-06T11:39:45.247564Z",
          "shell.execute_reply": "2025-08-06T11:39:45.277798Z"
        },
        "id": "a6Bsph4uSyhO"
      },
      "outputs": [],
      "execution_count": null
    },
    {
      "cell_type": "code",
      "source": [
        "df.shape"
      ],
      "metadata": {
        "trusted": true,
        "execution": {
          "iopub.status.busy": "2025-08-06T11:39:45.280669Z",
          "iopub.execute_input": "2025-08-06T11:39:45.281216Z",
          "iopub.status.idle": "2025-08-06T11:39:45.286579Z",
          "shell.execute_reply.started": "2025-08-06T11:39:45.281192Z",
          "shell.execute_reply": "2025-08-06T11:39:45.285797Z"
        },
        "id": "cFufE-iDSyhO"
      },
      "outputs": [],
      "execution_count": null
    },
    {
      "cell_type": "code",
      "source": [
        "df.info()"
      ],
      "metadata": {
        "trusted": true,
        "execution": {
          "iopub.status.busy": "2025-08-06T11:39:45.287495Z",
          "iopub.execute_input": "2025-08-06T11:39:45.287721Z",
          "iopub.status.idle": "2025-08-06T11:39:45.325539Z",
          "shell.execute_reply.started": "2025-08-06T11:39:45.287702Z",
          "shell.execute_reply": "2025-08-06T11:39:45.324552Z"
        },
        "id": "xOdAH1VfSyhO"
      },
      "outputs": [],
      "execution_count": null
    },
    {
      "cell_type": "code",
      "source": [
        "df.describe()"
      ],
      "metadata": {
        "trusted": true,
        "execution": {
          "iopub.status.busy": "2025-08-06T11:39:45.326411Z",
          "iopub.execute_input": "2025-08-06T11:39:45.326628Z",
          "iopub.status.idle": "2025-08-06T11:39:45.365755Z",
          "shell.execute_reply.started": "2025-08-06T11:39:45.326611Z",
          "shell.execute_reply": "2025-08-06T11:39:45.365033Z"
        },
        "id": "cA0mzGa1SyhP"
      },
      "outputs": [],
      "execution_count": null
    },
    {
      "cell_type": "code",
      "source": [
        "print(df.columns.tolist())\n"
      ],
      "metadata": {
        "trusted": true,
        "execution": {
          "iopub.status.busy": "2025-08-06T11:39:45.366585Z",
          "iopub.execute_input": "2025-08-06T11:39:45.3669Z",
          "iopub.status.idle": "2025-08-06T11:39:45.371555Z",
          "shell.execute_reply.started": "2025-08-06T11:39:45.366865Z",
          "shell.execute_reply": "2025-08-06T11:39:45.370747Z"
        },
        "id": "hG4_FTRTSyhP"
      },
      "outputs": [],
      "execution_count": null
    },
    {
      "cell_type": "code",
      "source": [
        "df.dtypes"
      ],
      "metadata": {
        "trusted": true,
        "execution": {
          "iopub.status.busy": "2025-08-06T11:39:45.372539Z",
          "iopub.execute_input": "2025-08-06T11:39:45.373054Z",
          "iopub.status.idle": "2025-08-06T11:39:45.390936Z",
          "shell.execute_reply.started": "2025-08-06T11:39:45.373031Z",
          "shell.execute_reply": "2025-08-06T11:39:45.39Z"
        },
        "id": "GNCZFTn-SyhP"
      },
      "outputs": [],
      "execution_count": null
    },
    {
      "cell_type": "code",
      "source": [
        "df.isnull().sum()"
      ],
      "metadata": {
        "trusted": true,
        "execution": {
          "iopub.status.busy": "2025-08-06T11:39:45.391702Z",
          "iopub.execute_input": "2025-08-06T11:39:45.391968Z",
          "iopub.status.idle": "2025-08-06T11:39:45.411343Z",
          "shell.execute_reply.started": "2025-08-06T11:39:45.391947Z",
          "shell.execute_reply": "2025-08-06T11:39:45.410546Z"
        },
        "id": "YKPgMYqASyhP"
      },
      "outputs": [],
      "execution_count": null
    },
    {
      "cell_type": "code",
      "source": [
        "# For Missing values:\n",
        "# - Numeric columns: fill with median\n",
        "# - Categorical columns: fill with mode\n",
        "\n",
        "numeric_col = df.select_dtypes(include=['int64','float64']).columns\n",
        "categorical_col = df.select_dtypes(include=['object']).columns\n",
        "\n",
        "df[numeric_col] = df[numeric_col].fillna(df[numeric_col].median())\n",
        "\n",
        "for col in categorical_col:\n",
        "    df[col] = df[col].fillna(df[col].mode()[0])"
      ],
      "metadata": {
        "trusted": true,
        "execution": {
          "iopub.status.busy": "2025-08-06T11:39:45.414875Z",
          "iopub.execute_input": "2025-08-06T11:39:45.415134Z",
          "iopub.status.idle": "2025-08-06T11:39:45.446601Z",
          "shell.execute_reply.started": "2025-08-06T11:39:45.415114Z",
          "shell.execute_reply": "2025-08-06T11:39:45.445663Z"
        },
        "id": "lqA_qjZcSyhP"
      },
      "outputs": [],
      "execution_count": null
    },
    {
      "cell_type": "code",
      "source": [
        "df.isnull().sum().sum()"
      ],
      "metadata": {
        "trusted": true,
        "execution": {
          "iopub.status.busy": "2025-08-06T11:39:45.447573Z",
          "iopub.execute_input": "2025-08-06T11:39:45.447908Z",
          "iopub.status.idle": "2025-08-06T11:39:45.456582Z",
          "shell.execute_reply.started": "2025-08-06T11:39:45.447876Z",
          "shell.execute_reply": "2025-08-06T11:39:45.455865Z"
        },
        "id": "lh7r8IFPSyhP"
      },
      "outputs": [],
      "execution_count": null
    },
    {
      "cell_type": "code",
      "source": [
        "print(\" Numerical Columns:\")\n",
        "print(numeric_col.tolist())\n",
        "\n",
        "print(\"\\n Categorical Columns:\")\n",
        "print(categorical_col.tolist())"
      ],
      "metadata": {
        "trusted": true,
        "execution": {
          "iopub.status.busy": "2025-08-06T11:39:45.457298Z",
          "iopub.execute_input": "2025-08-06T11:39:45.457604Z",
          "iopub.status.idle": "2025-08-06T11:39:45.473331Z",
          "shell.execute_reply.started": "2025-08-06T11:39:45.457569Z",
          "shell.execute_reply": "2025-08-06T11:39:45.472517Z"
        },
        "id": "KbiN7T72SyhP"
      },
      "outputs": [],
      "execution_count": null
    },
    {
      "cell_type": "code",
      "source": [
        "for col in (categorical_col.tolist()):\n",
        "    print(df[col].value_counts())\n",
        "    print('*' * 40)"
      ],
      "metadata": {
        "trusted": true,
        "execution": {
          "iopub.status.busy": "2025-08-06T11:39:45.474082Z",
          "iopub.execute_input": "2025-08-06T11:39:45.474282Z",
          "iopub.status.idle": "2025-08-06T11:39:45.504818Z",
          "shell.execute_reply.started": "2025-08-06T11:39:45.474265Z",
          "shell.execute_reply": "2025-08-06T11:39:45.503988Z"
        },
        "id": "QNYRVog8SyhP"
      },
      "outputs": [],
      "execution_count": null
    },
    {
      "cell_type": "code",
      "source": [
        "for col in numeric_col:\n",
        "    plt.figure(figsize=(8,6))\n",
        "    sns.histplot(x=df[col],data=df,bins=20)\n",
        "    plt.title(f'Distribution of {col}')\n",
        "    plt.show()"
      ],
      "metadata": {
        "trusted": true,
        "execution": {
          "iopub.status.busy": "2025-08-06T11:39:45.505754Z",
          "iopub.execute_input": "2025-08-06T11:39:45.506085Z",
          "iopub.status.idle": "2025-08-06T11:39:46.61202Z",
          "shell.execute_reply.started": "2025-08-06T11:39:45.506065Z",
          "shell.execute_reply": "2025-08-06T11:39:46.611214Z"
        },
        "id": "HBiu9gCUSyhP"
      },
      "outputs": [],
      "execution_count": null
    },
    {
      "cell_type": "code",
      "source": [
        "# Calculate correlation matrix for numerical features\n",
        "corr_matrix = df[numeric_col].corr()"
      ],
      "metadata": {
        "trusted": true,
        "execution": {
          "iopub.status.busy": "2025-08-06T11:39:46.612866Z",
          "iopub.execute_input": "2025-08-06T11:39:46.613141Z",
          "iopub.status.idle": "2025-08-06T11:39:46.621022Z",
          "shell.execute_reply.started": "2025-08-06T11:39:46.613119Z",
          "shell.execute_reply": "2025-08-06T11:39:46.620018Z"
        },
        "id": "q9LROYR9SyhQ"
      },
      "outputs": [],
      "execution_count": null
    },
    {
      "cell_type": "code",
      "source": [
        "plt.figure(figsize=(12,10))\n",
        "sns.heatmap(corr_matrix,annot=True,fmt='.2f',square=True,cmap='coolwarm')\n",
        "plt.title('Distribution of Numerical columns')\n",
        "plt.show()"
      ],
      "metadata": {
        "trusted": true,
        "execution": {
          "iopub.status.busy": "2025-08-06T11:39:46.621768Z",
          "iopub.execute_input": "2025-08-06T11:39:46.622097Z",
          "iopub.status.idle": "2025-08-06T11:39:46.933157Z",
          "shell.execute_reply.started": "2025-08-06T11:39:46.622069Z",
          "shell.execute_reply": "2025-08-06T11:39:46.932303Z"
        },
        "id": "EGDtZDCgSyhQ"
      },
      "outputs": [],
      "execution_count": null
    },
    {
      "cell_type": "code",
      "source": [
        "target_col = 'price'"
      ],
      "metadata": {
        "trusted": true,
        "execution": {
          "iopub.status.busy": "2025-08-06T11:39:46.934257Z",
          "iopub.execute_input": "2025-08-06T11:39:46.934566Z",
          "iopub.status.idle": "2025-08-06T11:39:46.939106Z",
          "shell.execute_reply.started": "2025-08-06T11:39:46.934537Z",
          "shell.execute_reply": "2025-08-06T11:39:46.938076Z"
        },
        "id": "HM_0VZFQSyhQ"
      },
      "outputs": [],
      "execution_count": null
    },
    {
      "cell_type": "code",
      "source": [
        "correlation_with_target = corr_matrix[target_col].sort_values(ascending=False)\n",
        "print(\"\\n Correlation with target variable:\")\n",
        "print(correlation_with_target)"
      ],
      "metadata": {
        "trusted": true,
        "execution": {
          "iopub.status.busy": "2025-08-06T11:39:46.939974Z",
          "iopub.execute_input": "2025-08-06T11:39:46.940227Z",
          "iopub.status.idle": "2025-08-06T11:39:46.958439Z",
          "shell.execute_reply.started": "2025-08-06T11:39:46.940207Z",
          "shell.execute_reply": "2025-08-06T11:39:46.957664Z"
        },
        "id": "92P4r9YnSyhQ"
      },
      "outputs": [],
      "execution_count": null
    },
    {
      "cell_type": "code",
      "source": [
        "low_corr_features = correlation_with_target[abs(correlation_with_target<0.05)].index.tolist()\n",
        "print('low correlation features:',low_corr_features)"
      ],
      "metadata": {
        "trusted": true,
        "execution": {
          "iopub.status.busy": "2025-08-06T11:39:46.959464Z",
          "iopub.execute_input": "2025-08-06T11:39:46.959755Z",
          "iopub.status.idle": "2025-08-06T11:39:46.976255Z",
          "shell.execute_reply.started": "2025-08-06T11:39:46.959734Z",
          "shell.execute_reply": "2025-08-06T11:39:46.975349Z"
        },
        "id": "SjpJMiRrSyhQ"
      },
      "outputs": [],
      "execution_count": null
    },
    {
      "cell_type": "code",
      "source": [
        "# Droping low correlation features\n",
        "\n",
        "df.drop(columns = low_corr_features,inplace=True)\n"
      ],
      "metadata": {
        "trusted": true,
        "execution": {
          "iopub.status.busy": "2025-08-06T11:39:46.977273Z",
          "iopub.execute_input": "2025-08-06T11:39:46.97759Z",
          "iopub.status.idle": "2025-08-06T11:39:46.994215Z",
          "shell.execute_reply.started": "2025-08-06T11:39:46.977563Z",
          "shell.execute_reply": "2025-08-06T11:39:46.993229Z"
        },
        "id": "ty1in6OGSyhQ"
      },
      "outputs": [],
      "execution_count": null
    },
    {
      "cell_type": "code",
      "source": [
        "df.head()"
      ],
      "metadata": {
        "trusted": true,
        "execution": {
          "iopub.status.busy": "2025-08-06T11:39:46.995287Z",
          "iopub.execute_input": "2025-08-06T11:39:46.995562Z",
          "iopub.status.idle": "2025-08-06T11:39:47.026899Z",
          "shell.execute_reply.started": "2025-08-06T11:39:46.995541Z",
          "shell.execute_reply": "2025-08-06T11:39:47.025911Z"
        },
        "id": "bDtURlM1SyhQ"
      },
      "outputs": [],
      "execution_count": null
    },
    {
      "cell_type": "code",
      "source": [
        "X=df.drop(columns='price')\n",
        "Y=df['price']"
      ],
      "metadata": {
        "trusted": true,
        "execution": {
          "iopub.status.busy": "2025-08-06T11:39:47.02788Z",
          "iopub.execute_input": "2025-08-06T11:39:47.028141Z",
          "iopub.status.idle": "2025-08-06T11:39:47.045051Z",
          "shell.execute_reply.started": "2025-08-06T11:39:47.02812Z",
          "shell.execute_reply": "2025-08-06T11:39:47.04397Z"
        },
        "id": "535u7uX3SyhQ"
      },
      "outputs": [],
      "execution_count": null
    },
    {
      "cell_type": "code",
      "source": [
        "# Applying OneHotEncoding\n",
        "X_encoded = pd.get_dummies(X,drop_first=True)"
      ],
      "metadata": {
        "trusted": true,
        "execution": {
          "iopub.status.busy": "2025-08-06T11:39:47.046099Z",
          "iopub.execute_input": "2025-08-06T11:39:47.046368Z",
          "iopub.status.idle": "2025-08-06T11:39:47.082112Z",
          "shell.execute_reply.started": "2025-08-06T11:39:47.046347Z",
          "shell.execute_reply": "2025-08-06T11:39:47.081207Z"
        },
        "id": "BH5PwwqMSyhQ"
      },
      "outputs": [],
      "execution_count": null
    },
    {
      "cell_type": "code",
      "source": [
        "X_encoded.shape"
      ],
      "metadata": {
        "trusted": true,
        "execution": {
          "iopub.status.busy": "2025-08-06T11:40:45.075072Z",
          "iopub.execute_input": "2025-08-06T11:40:45.075385Z",
          "iopub.status.idle": "2025-08-06T11:40:45.081172Z",
          "shell.execute_reply.started": "2025-08-06T11:40:45.075362Z",
          "shell.execute_reply": "2025-08-06T11:40:45.080487Z"
        },
        "id": "3TiDPE_cSyhQ"
      },
      "outputs": [],
      "execution_count": null
    },
    {
      "cell_type": "code",
      "source": [
        "from sklearn.preprocessing import StandardScaler\n",
        "scaler = StandardScaler()\n",
        "\n",
        "X_scaled = scaler.fit_transform(X_encoded)"
      ],
      "metadata": {
        "trusted": true,
        "execution": {
          "iopub.status.busy": "2025-08-06T11:43:48.589362Z",
          "iopub.execute_input": "2025-08-06T11:43:48.589685Z",
          "iopub.status.idle": "2025-08-06T11:43:48.824218Z",
          "shell.execute_reply.started": "2025-08-06T11:43:48.589659Z",
          "shell.execute_reply": "2025-08-06T11:43:48.823466Z"
        },
        "id": "04hIjqYxSyhQ"
      },
      "outputs": [],
      "execution_count": null
    },
    {
      "cell_type": "code",
      "source": [
        "from sklearn.model_selection import train_test_split\n",
        "\n",
        "x_train,x_test,y_train,y_test=train_test_split(X_scaled,Y,test_size=0.2,random_state=537)"
      ],
      "metadata": {
        "trusted": true,
        "execution": {
          "iopub.status.busy": "2025-08-06T11:58:53.695597Z",
          "iopub.execute_input": "2025-08-06T11:58:53.69595Z",
          "iopub.status.idle": "2025-08-06T11:58:53.716706Z",
          "shell.execute_reply.started": "2025-08-06T11:58:53.695926Z",
          "shell.execute_reply": "2025-08-06T11:58:53.715771Z"
        },
        "id": "Rnfy5Oc-SyhQ"
      },
      "outputs": [],
      "execution_count": null
    },
    {
      "cell_type": "code",
      "source": [
        "x_train.shape"
      ],
      "metadata": {
        "trusted": true,
        "execution": {
          "iopub.status.busy": "2025-08-06T11:58:57.499466Z",
          "iopub.execute_input": "2025-08-06T11:58:57.499833Z",
          "iopub.status.idle": "2025-08-06T11:58:57.505491Z",
          "shell.execute_reply.started": "2025-08-06T11:58:57.4998Z",
          "shell.execute_reply": "2025-08-06T11:58:57.504631Z"
        },
        "id": "WYeZZxZlSyhQ"
      },
      "outputs": [],
      "execution_count": null
    },
    {
      "cell_type": "code",
      "source": [
        "# model 1: Linear regression\n",
        "lr = LinearRegression()\n",
        "lr.fit(x_train,y_train)\n",
        "lr_pred = lr.predict(x_test)\n",
        "\n"
      ],
      "metadata": {
        "trusted": true,
        "execution": {
          "iopub.status.busy": "2025-08-06T12:16:28.927294Z",
          "iopub.execute_input": "2025-08-06T12:16:28.928098Z",
          "iopub.status.idle": "2025-08-06T12:16:29.446577Z",
          "shell.execute_reply.started": "2025-08-06T12:16:28.928072Z",
          "shell.execute_reply": "2025-08-06T12:16:29.445734Z"
        },
        "id": "yAgEsG__SyhQ"
      },
      "outputs": [],
      "execution_count": null
    },
    {
      "cell_type": "code",
      "source": [
        "# model 2: Random forest\n",
        "rf = RandomForestRegressor()\n",
        "rf.fit(x_train,y_train)\n",
        "rf_pred = rf.predict(x_test)"
      ],
      "metadata": {
        "trusted": true,
        "execution": {
          "iopub.status.busy": "2025-08-06T12:16:21.15826Z",
          "iopub.execute_input": "2025-08-06T12:16:21.158873Z",
          "iopub.status.idle": "2025-08-06T12:16:24.994157Z",
          "shell.execute_reply.started": "2025-08-06T12:16:21.158847Z",
          "shell.execute_reply": "2025-08-06T12:16:24.993329Z"
        },
        "id": "jHOLGmnBSyhQ"
      },
      "outputs": [],
      "execution_count": null
    },
    {
      "cell_type": "code",
      "source": [
        "# Evaluation function\n",
        "def evaluate_model(name, y_true, y_pred):\n",
        "    print(f\"\\n {name} Evaluation:\")\n",
        "    print(f\"MAE  : {mean_absolute_error(y_true, y_pred):.2f}\")\n",
        "    print(f\"RMSE : {np.sqrt(mean_squared_error(y_true, y_pred)):.2f}\")\n",
        "    print(f\"R²   : {r2_score(y_true, y_pred):.4f}\")"
      ],
      "metadata": {
        "trusted": true,
        "execution": {
          "iopub.status.busy": "2025-08-06T12:14:27.822804Z",
          "iopub.execute_input": "2025-08-06T12:14:27.823055Z",
          "iopub.status.idle": "2025-08-06T12:14:27.827804Z",
          "shell.execute_reply.started": "2025-08-06T12:14:27.823029Z",
          "shell.execute_reply": "2025-08-06T12:14:27.827049Z"
        },
        "id": "PCbOws70SyhQ"
      },
      "outputs": [],
      "execution_count": null
    },
    {
      "cell_type": "code",
      "source": [
        "# Evaluate both models\n",
        "evaluate_model(\"Linear Regression\", y_test, lr_pred)\n",
        "evaluate_model(\"Random Forest Regressor\", y_test, rf_pred)"
      ],
      "metadata": {
        "trusted": true,
        "execution": {
          "iopub.status.busy": "2025-08-06T12:14:27.828864Z",
          "iopub.execute_input": "2025-08-06T12:14:27.829171Z",
          "iopub.status.idle": "2025-08-06T12:14:27.853416Z",
          "shell.execute_reply.started": "2025-08-06T12:14:27.829147Z",
          "shell.execute_reply": "2025-08-06T12:14:27.852521Z"
        },
        "id": "Sx5Ae03mSyhR"
      },
      "outputs": [],
      "execution_count": null
    },
    {
      "cell_type": "markdown",
      "source": [
        "# Model Visualation"
      ],
      "metadata": {
        "id": "c1pOWELTSyhR"
      }
    },
    {
      "cell_type": "code",
      "source": [
        "# Linear Regression - Actual vs Predicted\n",
        "plt.figure(figsize=(8, 5))\n",
        "plt.scatter(y_test, lr_pred, alpha=0.5)\n",
        "plt.plot([y_test.min(), y_test.max()], [y_test.min(), y_test.max()], 'r--')\n",
        "plt.xlabel(\"Actual Price\")\n",
        "plt.ylabel(\"Predicted Price\")\n",
        "plt.title(\"Linear Regression: Actual vs Predicted\")\n",
        "plt.grid(True)\n",
        "plt.show()"
      ],
      "metadata": {
        "trusted": true,
        "execution": {
          "iopub.status.busy": "2025-08-06T12:14:41.003548Z",
          "iopub.execute_input": "2025-08-06T12:14:41.0041Z",
          "iopub.status.idle": "2025-08-06T12:14:41.20295Z",
          "shell.execute_reply.started": "2025-08-06T12:14:41.004072Z",
          "shell.execute_reply": "2025-08-06T12:14:41.202012Z"
        },
        "id": "B99hAv3vSyhR"
      },
      "outputs": [],
      "execution_count": null
    },
    {
      "cell_type": "code",
      "source": [
        "# Random Forest Regressor - Actual vs Predicted\n",
        "plt.figure(figsize=(8, 5))\n",
        "plt.scatter(y_test, rf_pred, alpha=0.5, color='orange')\n",
        "plt.plot([y_test.min(), y_test.max()], [y_test.min(), y_test.max()], 'r--')\n",
        "plt.xlabel(\"Actual Price\")\n",
        "plt.ylabel(\"Predicted Price\")\n",
        "plt.title(\"Random Forest: Actual vs Predicted\")\n",
        "plt.grid(True)\n",
        "plt.show()\n"
      ],
      "metadata": {
        "trusted": true,
        "execution": {
          "iopub.status.busy": "2025-08-06T12:14:44.398752Z",
          "iopub.execute_input": "2025-08-06T12:14:44.399118Z",
          "iopub.status.idle": "2025-08-06T12:14:44.613607Z",
          "shell.execute_reply.started": "2025-08-06T12:14:44.399096Z",
          "shell.execute_reply": "2025-08-06T12:14:44.612389Z"
        },
        "id": "mne9NPS3SyhR"
      },
      "outputs": [],
      "execution_count": null
    },
    {
      "cell_type": "code",
      "source": [
        "# Feature names after one-hot encoding\n",
        "feature_names = X_encoded.columns"
      ],
      "metadata": {
        "trusted": true,
        "execution": {
          "iopub.status.busy": "2025-08-06T12:14:49.998846Z",
          "iopub.execute_input": "2025-08-06T12:14:49.999708Z",
          "iopub.status.idle": "2025-08-06T12:14:50.003663Z",
          "shell.execute_reply.started": "2025-08-06T12:14:49.999672Z",
          "shell.execute_reply": "2025-08-06T12:14:50.002937Z"
        },
        "id": "wC2SFW5fSyhR"
      },
      "outputs": [],
      "execution_count": null
    },
    {
      "cell_type": "code",
      "source": [
        "# Extract importance scores from the trained RF model\n",
        "importances = rf.feature_importances_\n",
        "importance_df = pd.DataFrame({'Feature': feature_names, 'Importance': importances})\n",
        "importance_df = importance_df.sort_values(by='Importance', ascending=False)"
      ],
      "metadata": {
        "trusted": true,
        "execution": {
          "iopub.status.busy": "2025-08-06T12:15:54.077594Z",
          "iopub.execute_input": "2025-08-06T12:15:54.077964Z",
          "iopub.status.idle": "2025-08-06T12:15:54.092688Z",
          "shell.execute_reply.started": "2025-08-06T12:15:54.077936Z",
          "shell.execute_reply": "2025-08-06T12:15:54.091844Z"
        },
        "id": "HFKCIYhySyhV"
      },
      "outputs": [],
      "execution_count": null
    },
    {
      "cell_type": "code",
      "source": [
        "# Plot top 15 important features\n",
        "plt.figure(figsize=(10, 6))\n",
        "sns.barplot(x='Importance', y='Feature', data=importance_df.head(10))\n",
        "plt.title(\"Top 10 Important Features (Random Forest)\")\n",
        "plt.xlabel(\"Importance Score\")\n",
        "plt.ylabel(\"Feature Name\")\n",
        "plt.tight_layout()\n",
        "plt.show()"
      ],
      "metadata": {
        "trusted": true,
        "execution": {
          "iopub.status.busy": "2025-08-06T12:16:00.247456Z",
          "iopub.execute_input": "2025-08-06T12:16:00.247751Z",
          "iopub.status.idle": "2025-08-06T12:16:00.505999Z",
          "shell.execute_reply.started": "2025-08-06T12:16:00.247732Z",
          "shell.execute_reply": "2025-08-06T12:16:00.505082Z"
        },
        "id": "ZuGLMyaPSyhV"
      },
      "outputs": [],
      "execution_count": null
    },
    {
      "cell_type": "code",
      "source": [],
      "metadata": {
        "trusted": true,
        "id": "_dSJbBlHSyhW"
      },
      "outputs": [],
      "execution_count": null
    }
  ]
}