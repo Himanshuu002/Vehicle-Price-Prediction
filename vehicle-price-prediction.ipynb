{
 "cells": [
  {
   "cell_type": "markdown",
   "id": "df1137e7",
   "metadata": {
    "papermill": {
     "duration": 0.007548,
     "end_time": "2025-08-06T12:21:07.530670",
     "exception": false,
     "start_time": "2025-08-06T12:21:07.523122",
     "status": "completed"
    },
    "tags": []
   },
   "source": [
    "## Step 1: Importing Required Libraries"
   ]
  },
  {
   "cell_type": "code",
   "execution_count": 210,
   "id": "60a46e2b",
   "metadata": {
    "execution": {
     "iopub.execute_input": "2025-08-06T12:21:07.545482Z",
     "iopub.status.busy": "2025-08-06T12:21:07.545016Z",
     "iopub.status.idle": "2025-08-06T12:21:12.876880Z",
     "shell.execute_reply": "2025-08-06T12:21:12.875621Z"
    },
    "papermill": {
     "duration": 5.341692,
     "end_time": "2025-08-06T12:21:12.878942",
     "exception": false,
     "start_time": "2025-08-06T12:21:07.537250",
     "status": "completed"
    },
    "tags": []
   },
   "outputs": [],
   "source": [
    "import pandas as pd\n",
    "import numpy as np\n",
    "import matplotlib.pyplot as plt\n",
    "import seaborn as sns\n",
    "from sklearn.linear_model import LinearRegression\n",
    "from sklearn.ensemble import RandomForestRegressor, GradientBoostingRegressor\n",
    "import xgboost as xgb\n",
    "from sklearn.metrics import mean_absolute_error, mean_squared_error, r2_score\n",
    "from sklearn.preprocessing import StandardScaler , OneHotEncoder\n",
    "from sklearn.compose import ColumnTransformer\n",
    "from sklearn.pipeline import Pipeline\n",
    "from sklearn.impute import SimpleImputer"
   ]
  },
  {
   "cell_type": "markdown",
   "id": "47e1cc3b",
   "metadata": {
    "papermill": {
     "duration": 0.006675,
     "end_time": "2025-08-06T12:21:12.892784",
     "exception": false,
     "start_time": "2025-08-06T12:21:12.886109",
     "status": "completed"
    },
    "tags": []
   },
   "source": [
    "## Step 2: Load the Dataset and Initial Exploration"
   ]
  },
  {
   "cell_type": "code",
   "execution_count": 211,
   "id": "c2602ded",
   "metadata": {
    "execution": {
     "iopub.execute_input": "2025-08-06T12:21:12.907527Z",
     "iopub.status.busy": "2025-08-06T12:21:12.907028Z",
     "iopub.status.idle": "2025-08-06T12:21:12.977508Z",
     "shell.execute_reply": "2025-08-06T12:21:12.976468Z"
    },
    "papermill": {
     "duration": 0.080294,
     "end_time": "2025-08-06T12:21:12.979336",
     "exception": false,
     "start_time": "2025-08-06T12:21:12.899042",
     "status": "completed"
    },
    "tags": []
   },
   "outputs": [],
   "source": [
    "df=pd.read_csv(\"dataset.csv\")"
   ]
  },
  {
   "cell_type": "code",
   "execution_count": 212,
   "id": "2cee0407",
   "metadata": {
    "execution": {
     "iopub.execute_input": "2025-08-06T12:21:12.993306Z",
     "iopub.status.busy": "2025-08-06T12:21:12.992965Z",
     "iopub.status.idle": "2025-08-06T12:21:13.025643Z",
     "shell.execute_reply": "2025-08-06T12:21:13.024522Z"
    },
    "papermill": {
     "duration": 0.041788,
     "end_time": "2025-08-06T12:21:13.027568",
     "exception": false,
     "start_time": "2025-08-06T12:21:12.985780",
     "status": "completed"
    },
    "tags": []
   },
   "outputs": [
    {
     "data": {
      "text/html": [
       "<div>\n",
       "<style scoped>\n",
       "    .dataframe tbody tr th:only-of-type {\n",
       "        vertical-align: middle;\n",
       "    }\n",
       "\n",
       "    .dataframe tbody tr th {\n",
       "        vertical-align: top;\n",
       "    }\n",
       "\n",
       "    .dataframe thead th {\n",
       "        text-align: right;\n",
       "    }\n",
       "</style>\n",
       "<table border=\"1\" class=\"dataframe\">\n",
       "  <thead>\n",
       "    <tr style=\"text-align: right;\">\n",
       "      <th></th>\n",
       "      <th>name</th>\n",
       "      <th>description</th>\n",
       "      <th>make</th>\n",
       "      <th>model</th>\n",
       "      <th>year</th>\n",
       "      <th>price</th>\n",
       "      <th>engine</th>\n",
       "      <th>cylinders</th>\n",
       "      <th>fuel</th>\n",
       "      <th>mileage</th>\n",
       "      <th>transmission</th>\n",
       "      <th>trim</th>\n",
       "      <th>body</th>\n",
       "      <th>doors</th>\n",
       "      <th>exterior_color</th>\n",
       "      <th>interior_color</th>\n",
       "      <th>drivetrain</th>\n",
       "    </tr>\n",
       "  </thead>\n",
       "  <tbody>\n",
       "    <tr>\n",
       "      <th>0</th>\n",
       "      <td>2024 Jeep Wagoneer Series II</td>\n",
       "      <td>\\n      \\n        Heated Leather Seats, Nav Sy...</td>\n",
       "      <td>Jeep</td>\n",
       "      <td>Wagoneer</td>\n",
       "      <td>2024</td>\n",
       "      <td>74600.0</td>\n",
       "      <td>24V GDI DOHC Twin Turbo</td>\n",
       "      <td>6.0</td>\n",
       "      <td>Gasoline</td>\n",
       "      <td>10.0</td>\n",
       "      <td>8-Speed Automatic</td>\n",
       "      <td>Series II</td>\n",
       "      <td>SUV</td>\n",
       "      <td>4.0</td>\n",
       "      <td>White</td>\n",
       "      <td>Global Black</td>\n",
       "      <td>Four-wheel Drive</td>\n",
       "    </tr>\n",
       "    <tr>\n",
       "      <th>1</th>\n",
       "      <td>2024 Jeep Grand Cherokee Laredo</td>\n",
       "      <td>Al West is committed to offering every custome...</td>\n",
       "      <td>Jeep</td>\n",
       "      <td>Grand Cherokee</td>\n",
       "      <td>2024</td>\n",
       "      <td>50170.0</td>\n",
       "      <td>OHV</td>\n",
       "      <td>6.0</td>\n",
       "      <td>Gasoline</td>\n",
       "      <td>1.0</td>\n",
       "      <td>8-Speed Automatic</td>\n",
       "      <td>Laredo</td>\n",
       "      <td>SUV</td>\n",
       "      <td>4.0</td>\n",
       "      <td>Metallic</td>\n",
       "      <td>Global Black</td>\n",
       "      <td>Four-wheel Drive</td>\n",
       "    </tr>\n",
       "    <tr>\n",
       "      <th>2</th>\n",
       "      <td>2024 GMC Yukon XL Denali</td>\n",
       "      <td>NaN</td>\n",
       "      <td>GMC</td>\n",
       "      <td>Yukon XL</td>\n",
       "      <td>2024</td>\n",
       "      <td>96410.0</td>\n",
       "      <td>6.2L V-8 gasoline direct injection, variable v...</td>\n",
       "      <td>8.0</td>\n",
       "      <td>Gasoline</td>\n",
       "      <td>0.0</td>\n",
       "      <td>Automatic</td>\n",
       "      <td>Denali</td>\n",
       "      <td>SUV</td>\n",
       "      <td>4.0</td>\n",
       "      <td>Summit White</td>\n",
       "      <td>Teak/Light Shale</td>\n",
       "      <td>Four-wheel Drive</td>\n",
       "    </tr>\n",
       "    <tr>\n",
       "      <th>3</th>\n",
       "      <td>2023 Dodge Durango Pursuit</td>\n",
       "      <td>White Knuckle Clearcoat 2023 Dodge Durango Pur...</td>\n",
       "      <td>Dodge</td>\n",
       "      <td>Durango</td>\n",
       "      <td>2023</td>\n",
       "      <td>46835.0</td>\n",
       "      <td>16V MPFI OHV</td>\n",
       "      <td>8.0</td>\n",
       "      <td>Gasoline</td>\n",
       "      <td>32.0</td>\n",
       "      <td>8-Speed Automatic</td>\n",
       "      <td>Pursuit</td>\n",
       "      <td>SUV</td>\n",
       "      <td>4.0</td>\n",
       "      <td>White Knuckle Clearcoat</td>\n",
       "      <td>Black</td>\n",
       "      <td>All-wheel Drive</td>\n",
       "    </tr>\n",
       "    <tr>\n",
       "      <th>4</th>\n",
       "      <td>2024 RAM 3500 Laramie</td>\n",
       "      <td>\\n      \\n        2024 Ram 3500 Laramie Billet...</td>\n",
       "      <td>RAM</td>\n",
       "      <td>3500</td>\n",
       "      <td>2024</td>\n",
       "      <td>81663.0</td>\n",
       "      <td>24V DDI OHV Turbo Diesel</td>\n",
       "      <td>6.0</td>\n",
       "      <td>Diesel</td>\n",
       "      <td>10.0</td>\n",
       "      <td>6-Speed Automatic</td>\n",
       "      <td>Laramie</td>\n",
       "      <td>Pickup Truck</td>\n",
       "      <td>4.0</td>\n",
       "      <td>Silver</td>\n",
       "      <td>Black</td>\n",
       "      <td>Four-wheel Drive</td>\n",
       "    </tr>\n",
       "  </tbody>\n",
       "</table>\n",
       "</div>"
      ],
      "text/plain": [
       "                              name  \\\n",
       "0     2024 Jeep Wagoneer Series II   \n",
       "1  2024 Jeep Grand Cherokee Laredo   \n",
       "2         2024 GMC Yukon XL Denali   \n",
       "3       2023 Dodge Durango Pursuit   \n",
       "4            2024 RAM 3500 Laramie   \n",
       "\n",
       "                                         description   make           model  \\\n",
       "0  \\n      \\n        Heated Leather Seats, Nav Sy...   Jeep        Wagoneer   \n",
       "1  Al West is committed to offering every custome...   Jeep  Grand Cherokee   \n",
       "2                                                NaN    GMC        Yukon XL   \n",
       "3  White Knuckle Clearcoat 2023 Dodge Durango Pur...  Dodge         Durango   \n",
       "4  \\n      \\n        2024 Ram 3500 Laramie Billet...    RAM            3500   \n",
       "\n",
       "   year    price                                             engine  \\\n",
       "0  2024  74600.0                            24V GDI DOHC Twin Turbo   \n",
       "1  2024  50170.0                                                OHV   \n",
       "2  2024  96410.0  6.2L V-8 gasoline direct injection, variable v...   \n",
       "3  2023  46835.0                                       16V MPFI OHV   \n",
       "4  2024  81663.0                           24V DDI OHV Turbo Diesel   \n",
       "\n",
       "   cylinders      fuel  mileage       transmission       trim          body  \\\n",
       "0        6.0  Gasoline     10.0  8-Speed Automatic  Series II           SUV   \n",
       "1        6.0  Gasoline      1.0  8-Speed Automatic     Laredo           SUV   \n",
       "2        8.0  Gasoline      0.0          Automatic     Denali           SUV   \n",
       "3        8.0  Gasoline     32.0  8-Speed Automatic    Pursuit           SUV   \n",
       "4        6.0    Diesel     10.0  6-Speed Automatic    Laramie  Pickup Truck   \n",
       "\n",
       "   doors           exterior_color    interior_color        drivetrain  \n",
       "0    4.0                    White      Global Black  Four-wheel Drive  \n",
       "1    4.0                 Metallic      Global Black  Four-wheel Drive  \n",
       "2    4.0             Summit White  Teak/Light Shale  Four-wheel Drive  \n",
       "3    4.0  White Knuckle Clearcoat             Black   All-wheel Drive  \n",
       "4    4.0                   Silver             Black  Four-wheel Drive  "
      ]
     },
     "execution_count": 212,
     "metadata": {},
     "output_type": "execute_result"
    }
   ],
   "source": [
    "df.head()"
   ]
  },
  {
   "cell_type": "code",
   "execution_count": 213,
   "id": "22c6ecbe",
   "metadata": {
    "execution": {
     "iopub.execute_input": "2025-08-06T12:21:13.041966Z",
     "iopub.status.busy": "2025-08-06T12:21:13.041624Z",
     "iopub.status.idle": "2025-08-06T12:21:13.047256Z",
     "shell.execute_reply": "2025-08-06T12:21:13.046481Z"
    },
    "papermill": {
     "duration": 0.014344,
     "end_time": "2025-08-06T12:21:13.048613",
     "exception": false,
     "start_time": "2025-08-06T12:21:13.034269",
     "status": "completed"
    },
    "tags": []
   },
   "outputs": [
    {
     "data": {
      "text/plain": [
       "(1002, 17)"
      ]
     },
     "execution_count": 213,
     "metadata": {},
     "output_type": "execute_result"
    }
   ],
   "source": [
    "df.shape"
   ]
  },
  {
   "cell_type": "code",
   "execution_count": 214,
   "id": "b354f9d2",
   "metadata": {
    "execution": {
     "iopub.execute_input": "2025-08-06T12:21:13.062977Z",
     "iopub.status.busy": "2025-08-06T12:21:13.062646Z",
     "iopub.status.idle": "2025-08-06T12:21:13.089298Z",
     "shell.execute_reply": "2025-08-06T12:21:13.087804Z"
    },
    "papermill": {
     "duration": 0.03609,
     "end_time": "2025-08-06T12:21:13.091321",
     "exception": false,
     "start_time": "2025-08-06T12:21:13.055231",
     "status": "completed"
    },
    "tags": []
   },
   "outputs": [
    {
     "name": "stdout",
     "output_type": "stream",
     "text": [
      "<class 'pandas.core.frame.DataFrame'>\n",
      "RangeIndex: 1002 entries, 0 to 1001\n",
      "Data columns (total 17 columns):\n",
      " #   Column          Non-Null Count  Dtype  \n",
      "---  ------          --------------  -----  \n",
      " 0   name            1002 non-null   object \n",
      " 1   description     946 non-null    object \n",
      " 2   make            1002 non-null   object \n",
      " 3   model           1002 non-null   object \n",
      " 4   year            1002 non-null   int64  \n",
      " 5   price           979 non-null    float64\n",
      " 6   engine          1000 non-null   object \n",
      " 7   cylinders       897 non-null    float64\n",
      " 8   fuel            995 non-null    object \n",
      " 9   mileage         968 non-null    float64\n",
      " 10  transmission    1000 non-null   object \n",
      " 11  trim            1001 non-null   object \n",
      " 12  body            999 non-null    object \n",
      " 13  doors           995 non-null    float64\n",
      " 14  exterior_color  997 non-null    object \n",
      " 15  interior_color  964 non-null    object \n",
      " 16  drivetrain      1002 non-null   object \n",
      "dtypes: float64(4), int64(1), object(12)\n",
      "memory usage: 133.2+ KB\n"
     ]
    }
   ],
   "source": [
    "df.info()"
   ]
  },
  {
   "cell_type": "code",
   "execution_count": 215,
   "id": "7aca34b1",
   "metadata": {
    "execution": {
     "iopub.execute_input": "2025-08-06T12:21:13.107185Z",
     "iopub.status.busy": "2025-08-06T12:21:13.106843Z",
     "iopub.status.idle": "2025-08-06T12:21:13.148108Z",
     "shell.execute_reply": "2025-08-06T12:21:13.147078Z"
    },
    "papermill": {
     "duration": 0.051148,
     "end_time": "2025-08-06T12:21:13.149774",
     "exception": false,
     "start_time": "2025-08-06T12:21:13.098626",
     "status": "completed"
    },
    "tags": []
   },
   "outputs": [
    {
     "data": {
      "text/html": [
       "<div>\n",
       "<style scoped>\n",
       "    .dataframe tbody tr th:only-of-type {\n",
       "        vertical-align: middle;\n",
       "    }\n",
       "\n",
       "    .dataframe tbody tr th {\n",
       "        vertical-align: top;\n",
       "    }\n",
       "\n",
       "    .dataframe thead th {\n",
       "        text-align: right;\n",
       "    }\n",
       "</style>\n",
       "<table border=\"1\" class=\"dataframe\">\n",
       "  <thead>\n",
       "    <tr style=\"text-align: right;\">\n",
       "      <th></th>\n",
       "      <th>year</th>\n",
       "      <th>price</th>\n",
       "      <th>cylinders</th>\n",
       "      <th>mileage</th>\n",
       "      <th>doors</th>\n",
       "    </tr>\n",
       "  </thead>\n",
       "  <tbody>\n",
       "    <tr>\n",
       "      <th>count</th>\n",
       "      <td>1002.000000</td>\n",
       "      <td>979.000000</td>\n",
       "      <td>897.000000</td>\n",
       "      <td>968.000000</td>\n",
       "      <td>995.000000</td>\n",
       "    </tr>\n",
       "    <tr>\n",
       "      <th>mean</th>\n",
       "      <td>2023.916168</td>\n",
       "      <td>50202.985700</td>\n",
       "      <td>4.975474</td>\n",
       "      <td>69.033058</td>\n",
       "      <td>3.943719</td>\n",
       "    </tr>\n",
       "    <tr>\n",
       "      <th>std</th>\n",
       "      <td>0.298109</td>\n",
       "      <td>18700.392062</td>\n",
       "      <td>1.392526</td>\n",
       "      <td>507.435745</td>\n",
       "      <td>0.274409</td>\n",
       "    </tr>\n",
       "    <tr>\n",
       "      <th>min</th>\n",
       "      <td>2023.000000</td>\n",
       "      <td>0.000000</td>\n",
       "      <td>0.000000</td>\n",
       "      <td>0.000000</td>\n",
       "      <td>2.000000</td>\n",
       "    </tr>\n",
       "    <tr>\n",
       "      <th>25%</th>\n",
       "      <td>2024.000000</td>\n",
       "      <td>36600.000000</td>\n",
       "      <td>4.000000</td>\n",
       "      <td>4.000000</td>\n",
       "      <td>4.000000</td>\n",
       "    </tr>\n",
       "    <tr>\n",
       "      <th>50%</th>\n",
       "      <td>2024.000000</td>\n",
       "      <td>47165.000000</td>\n",
       "      <td>4.000000</td>\n",
       "      <td>8.000000</td>\n",
       "      <td>4.000000</td>\n",
       "    </tr>\n",
       "    <tr>\n",
       "      <th>75%</th>\n",
       "      <td>2024.000000</td>\n",
       "      <td>58919.500000</td>\n",
       "      <td>6.000000</td>\n",
       "      <td>13.000000</td>\n",
       "      <td>4.000000</td>\n",
       "    </tr>\n",
       "    <tr>\n",
       "      <th>max</th>\n",
       "      <td>2025.000000</td>\n",
       "      <td>195895.000000</td>\n",
       "      <td>8.000000</td>\n",
       "      <td>9711.000000</td>\n",
       "      <td>5.000000</td>\n",
       "    </tr>\n",
       "  </tbody>\n",
       "</table>\n",
       "</div>"
      ],
      "text/plain": [
       "              year          price   cylinders      mileage       doors\n",
       "count  1002.000000     979.000000  897.000000   968.000000  995.000000\n",
       "mean   2023.916168   50202.985700    4.975474    69.033058    3.943719\n",
       "std       0.298109   18700.392062    1.392526   507.435745    0.274409\n",
       "min    2023.000000       0.000000    0.000000     0.000000    2.000000\n",
       "25%    2024.000000   36600.000000    4.000000     4.000000    4.000000\n",
       "50%    2024.000000   47165.000000    4.000000     8.000000    4.000000\n",
       "75%    2024.000000   58919.500000    6.000000    13.000000    4.000000\n",
       "max    2025.000000  195895.000000    8.000000  9711.000000    5.000000"
      ]
     },
     "execution_count": 215,
     "metadata": {},
     "output_type": "execute_result"
    }
   ],
   "source": [
    "df.describe()"
   ]
  },
  {
   "cell_type": "code",
   "execution_count": 216,
   "id": "de1b3d55",
   "metadata": {
    "execution": {
     "iopub.execute_input": "2025-08-06T12:21:13.165537Z",
     "iopub.status.busy": "2025-08-06T12:21:13.165195Z",
     "iopub.status.idle": "2025-08-06T12:21:13.170840Z",
     "shell.execute_reply": "2025-08-06T12:21:13.169709Z"
    },
    "papermill": {
     "duration": 0.015344,
     "end_time": "2025-08-06T12:21:13.172712",
     "exception": false,
     "start_time": "2025-08-06T12:21:13.157368",
     "status": "completed"
    },
    "tags": []
   },
   "outputs": [
    {
     "name": "stdout",
     "output_type": "stream",
     "text": [
      "['name', 'description', 'make', 'model', 'year', 'price', 'engine', 'cylinders', 'fuel', 'mileage', 'transmission', 'trim', 'body', 'doors', 'exterior_color', 'interior_color', 'drivetrain']\n"
     ]
    }
   ],
   "source": [
    "print(df.columns.tolist())\n"
   ]
  },
  {
   "cell_type": "code",
   "execution_count": 217,
   "id": "8d693714",
   "metadata": {
    "execution": {
     "iopub.execute_input": "2025-08-06T12:21:13.190244Z",
     "iopub.status.busy": "2025-08-06T12:21:13.189769Z",
     "iopub.status.idle": "2025-08-06T12:21:13.199276Z",
     "shell.execute_reply": "2025-08-06T12:21:13.197942Z"
    },
    "papermill": {
     "duration": 0.021417,
     "end_time": "2025-08-06T12:21:13.201311",
     "exception": false,
     "start_time": "2025-08-06T12:21:13.179894",
     "status": "completed"
    },
    "tags": []
   },
   "outputs": [
    {
     "data": {
      "text/plain": [
       "name               object\n",
       "description        object\n",
       "make               object\n",
       "model              object\n",
       "year                int64\n",
       "price             float64\n",
       "engine             object\n",
       "cylinders         float64\n",
       "fuel               object\n",
       "mileage           float64\n",
       "transmission       object\n",
       "trim               object\n",
       "body               object\n",
       "doors             float64\n",
       "exterior_color     object\n",
       "interior_color     object\n",
       "drivetrain         object\n",
       "dtype: object"
      ]
     },
     "execution_count": 217,
     "metadata": {},
     "output_type": "execute_result"
    }
   ],
   "source": [
    "df.dtypes"
   ]
  },
  {
   "cell_type": "code",
   "execution_count": 218,
   "id": "00eecf7d",
   "metadata": {
    "execution": {
     "iopub.execute_input": "2025-08-06T12:21:13.217165Z",
     "iopub.status.busy": "2025-08-06T12:21:13.216811Z",
     "iopub.status.idle": "2025-08-06T12:21:13.227048Z",
     "shell.execute_reply": "2025-08-06T12:21:13.225505Z"
    },
    "papermill": {
     "duration": 0.020376,
     "end_time": "2025-08-06T12:21:13.229157",
     "exception": false,
     "start_time": "2025-08-06T12:21:13.208781",
     "status": "completed"
    },
    "tags": []
   },
   "outputs": [
    {
     "data": {
      "text/plain": [
       "name                0\n",
       "description        56\n",
       "make                0\n",
       "model               0\n",
       "year                0\n",
       "price              23\n",
       "engine              2\n",
       "cylinders         105\n",
       "fuel                7\n",
       "mileage            34\n",
       "transmission        2\n",
       "trim                1\n",
       "body                3\n",
       "doors               7\n",
       "exterior_color      5\n",
       "interior_color     38\n",
       "drivetrain          0\n",
       "dtype: int64"
      ]
     },
     "execution_count": 218,
     "metadata": {},
     "output_type": "execute_result"
    }
   ],
   "source": [
    "df.isnull().sum()"
   ]
  },
  {
   "cell_type": "code",
   "execution_count": 219,
   "id": "4917b66c",
   "metadata": {
    "execution": {
     "iopub.execute_input": "2025-08-06T12:21:13.246222Z",
     "iopub.status.busy": "2025-08-06T12:21:13.245906Z",
     "iopub.status.idle": "2025-08-06T12:21:13.277705Z",
     "shell.execute_reply": "2025-08-06T12:21:13.276262Z"
    },
    "papermill": {
     "duration": 0.042817,
     "end_time": "2025-08-06T12:21:13.279486",
     "exception": false,
     "start_time": "2025-08-06T12:21:13.236669",
     "status": "completed"
    },
    "tags": []
   },
   "outputs": [],
   "source": [
    "# For Missing values:\n",
    "# - Numeric columns: fill with median\n",
    "# - Categorical columns: fill with mode\n",
    "\n",
    "numeric_col = df.select_dtypes(include=['int64','float64']).columns\n",
    "categorical_col = df.select_dtypes(include=['object']).columns\n",
    "\n",
    "df[numeric_col] = df[numeric_col].fillna(df[numeric_col].median())\n",
    "\n",
    "for col in categorical_col:\n",
    "    df[col] = df[col].fillna(df[col].mode()[0])"
   ]
  },
  {
   "cell_type": "code",
   "execution_count": 220,
   "id": "1c3f26eb",
   "metadata": {
    "execution": {
     "iopub.execute_input": "2025-08-06T12:21:13.301291Z",
     "iopub.status.busy": "2025-08-06T12:21:13.300961Z",
     "iopub.status.idle": "2025-08-06T12:21:13.313498Z",
     "shell.execute_reply": "2025-08-06T12:21:13.312075Z"
    },
    "papermill": {
     "duration": 0.024426,
     "end_time": "2025-08-06T12:21:13.315488",
     "exception": false,
     "start_time": "2025-08-06T12:21:13.291062",
     "status": "completed"
    },
    "tags": []
   },
   "outputs": [
    {
     "data": {
      "text/plain": [
       "0"
      ]
     },
     "execution_count": 220,
     "metadata": {},
     "output_type": "execute_result"
    }
   ],
   "source": [
    "df.isnull().sum().sum()"
   ]
  },
  {
   "cell_type": "code",
   "execution_count": 221,
   "id": "cc2699e6",
   "metadata": {
    "execution": {
     "iopub.execute_input": "2025-08-06T12:21:13.333454Z",
     "iopub.status.busy": "2025-08-06T12:21:13.332830Z",
     "iopub.status.idle": "2025-08-06T12:21:13.338961Z",
     "shell.execute_reply": "2025-08-06T12:21:13.337860Z"
    },
    "papermill": {
     "duration": 0.018101,
     "end_time": "2025-08-06T12:21:13.341800",
     "exception": false,
     "start_time": "2025-08-06T12:21:13.323699",
     "status": "completed"
    },
    "tags": []
   },
   "outputs": [
    {
     "name": "stdout",
     "output_type": "stream",
     "text": [
      " Numerical Columns:\n",
      "['year', 'price', 'cylinders', 'mileage', 'doors']\n",
      "\n",
      " Categorical Columns:\n",
      "['name', 'description', 'make', 'model', 'engine', 'fuel', 'transmission', 'trim', 'body', 'exterior_color', 'interior_color', 'drivetrain']\n"
     ]
    }
   ],
   "source": [
    "print(\" Numerical Columns:\")\n",
    "print(numeric_col.tolist())\n",
    "\n",
    "print(\"\\n Categorical Columns:\")\n",
    "print(categorical_col.tolist())"
   ]
  },
  {
   "cell_type": "code",
   "execution_count": 222,
   "id": "d05f85cc",
   "metadata": {
    "execution": {
     "iopub.execute_input": "2025-08-06T12:21:13.358646Z",
     "iopub.status.busy": "2025-08-06T12:21:13.358284Z",
     "iopub.status.idle": "2025-08-06T12:21:13.380677Z",
     "shell.execute_reply": "2025-08-06T12:21:13.379643Z"
    },
    "papermill": {
     "duration": 0.034187,
     "end_time": "2025-08-06T12:21:13.384472",
     "exception": false,
     "start_time": "2025-08-06T12:21:13.350285",
     "status": "completed"
    },
    "tags": []
   },
   "outputs": [
    {
     "name": "stdout",
     "output_type": "stream",
     "text": [
      "name\n",
      "2023 Dodge Durango Pursuit                    33\n",
      "2024 Jeep Compass Latitude                    28\n",
      "2024 RAM 3500 Tradesman                       18\n",
      "2024 Dodge Hornet R/T Plus                    15\n",
      "2024 Volkswagen Taos 1.5T SE                  15\n",
      "                                              ..\n",
      "2024 Jeep Wagoneer L Series II Carbide 4x4     1\n",
      "2024 Ford Escape S                             1\n",
      "2024 Ford Bronco Wildtrak                      1\n",
      "2024 Buick Envista Preferred                   1\n",
      "2024 Chevrolet Silverado 2500 WT               1\n",
      "Name: count, Length: 358, dtype: int64\n",
      "****************************************\n",
      "description\n",
      "\\n      \\n        .\\n      \\n                                                                                                                                                                                                                                                                                                                                                                                                                                                                                                                                                                                                                                                                                                                                                                                                                                                                                                                                                                                                                                                                                                                                                                                                                                                                                                                                                                                                                                                                                                                                                                                                                                                                                                                                                                                                                                                                                                                                                                                                                                                                                                                                                                                                                                                                                                                                                                                                                        69\n",
      "2023 Dodge Durango AWD Pursuit DB Black Crystal Clearcoat 8-Speed Automatic HEMI 5.7L V8 Multi Displacement VVTThank you for visiting Don Franklin Auto Group. We know you have many choices while shopping for automotive products and services on the Internet. Our goal is to provide you with a complete 1-stop shopping site while you are visiting our virtual dealership. We will provide you with quick, expedient answers to any questions you may have.                                                                                                                                                                                                                                                                                                                                                                                                                                                                                                                                                                                                                                                                                                                                                                                                                                                                                                                                                                                                                                                                                                                                                                                                                                                                                                                                                                                                                                                                                                                                                                                                                                                                                                                                                                                                                                                                                                                                                                                     9\n",
      "\\n      \\n        IN STOCK! CALL TO CONFRIM AVAILABILITY TODAY!DRIVE WORRY FREE Never worry when you buy from us! Our Worry Free Guarantee includes: 1. Price Promise; 2. Money Back Guarantee; 3. Trade-In Guarantee; 4. Irwin Rewards saving you hundreds! BUY FROM AN AWARD WINNING DEALERSHIP With thousands of online reviews and the best rated online dealer in New Hampshire we have won countless President's Awards, Carfax Dealer of the Year, Edmunds Dealer of the Year and Dealerrater Dealer of the Year. Check them out-even our bad ones! FINANCING OPTIONS Good or bad credit? We work with dozens of banks with excellent relationships and all types of credit challenges with our goal of 100% credit approval! DON'T SEE WHAT YOU'RE LOOKING FOR? Our Vehicle Locator Service can often find the vehicle you're looking for from our nationwide network! LOCATION We are just a short 15 minute drive from Franklin, 25 minutes from Concord, and 50 minutes from Manchester NH! Minutes off I-93. Call us at 603 524 0770 or e-mail to confirm availability and get any questions you have answered quickly. Our hours are Monday-Friday 8:30am-7pm, and Saturday 8:30am-5pm. Since 1951 we have been New Hampshire's Premier Auto Group. 3 generations, family owned, operated and community minded. See dealer for details. $672 title and documentation fee, $27.00 Title Fee, in addition to selling price. Some exclusions. Not valid on prior orders and some models excluded. Disclaimers for Everyone: Administration and title fee will be added to the final sales price of all new and used vehicles.$1750 - GM Bonus Cash. Exp. 06/03/2024 $3000 - Chevrolet Consumer Cash Program. Exp. 06/03/2024\\n      \\n    Irwin Promise...Our Promise, Your Peace of Mind! Home of Irwin's Price Promise\\nLove It or Leave It Money-Back Guarantee. Vehicle Exchange Promise on used vehicles. Goal of 100% Credit Approval. Relax...no \"Sharks\" here...we have Product Specialists. Service & Parts Low Price Guarantee. We'll buy your car even if you don't buy ours. Irwin Rewards..                                                                                                                                                                                                                                                                                                                                    9\n",
      "\\n      \\n        At Walser, youll get an exceptional car-buying experience. Our streamlined process means youll work with one dedicated customer specialist to help you find the perfect vehicle. Upfront Pricing on every vehicle ensures youll get a great deal without any surprises or gimmicks. Buy with confidence because youre backed by our Worry-Free Return & Exchange Policy.The benefits dont stop there. We want you to be happy long after youve left our lot, so we include a complimentary WalserCare warranty with most new vehicles.Not only will you get a fast, easy, personalized experience, we also have ways to help you save. Our experienced finance team shops and compares rates from multiple lenders to get you the best deal. Whether youre leasing or financing, our special finance tools can find a great rate and payment to fit your budget.The best car-buying experience starts right here at Walser.\\n      \\n    If you are unfamiliar with the Walser Way, please visit our website to learn more: https://www.walser-mazda.com/why-walser/                                                                                                                                                                                                                                                                                                                                                                                                                                                                                                                                                                                                                                                                                                                                                                                                                                                                                                                                                                                                                                                                                                                                                                                                                                                                                                                                                                9\n",
      "2023 Dodge Durango AWD Pursuit White Knuckle Clearcoat 8-Speed Automatic HEMI 5.7L V8 Multi Displacement VVTThank you for visiting Don Franklin Auto Group. We know you have many choices while shopping for automotive products and services on the Internet. Our goal is to provide you with a complete 1-stop shopping site while you are visiting our virtual dealership. We will provide you with quick, expedient answers to any questions you may have.                                                                                                                                                                                                                                                                                                                                                                                                                                                                                                                                                                                                                                                                                                                                                                                                                                                                                                                                                                                                                                                                                                                                                                                                                                                                                                                                                                                                                                                                                                                                                                                                                                                                                                                                                                                                                                                                                                                                                                                        9\n",
      "                                                                                                                                                                                                                                                                                                                                                                                                                                                                                                                                                                                                                                                                                                                                                                                                                                                                                                                                                                                                                                                                                                                                                                                                                                                                                                                                                                                                                                                                                                                                                                                                                                                                                                                                                                                                                                                                                                                                                                                                                                                                                                                                                                                                                                                                                                                                                                                                                                                     ..\n",
      "\\n      \\n        Bright White Clearcoat 2024 Ram 3500 Big Horn 4WD Aisin 6-Speed Automatic I6 Disclaimer: New vehicle pricing includes all offers and incentives. Tax, Title and tags not included in vehicle prices shown and must be paid by the purchaser. While great effort is made to ensure the accuracy of the information on this site, errors do occur so please verify the information with a customer service rep. This is easily done by calling 941-234-9285 or by visiting us at the dealership. With approved credit. Terms may vary. Monthly payments are only estimates derived from the vehicle price with a 72 month term, 4.9% interest and 20% down payment. Pricing does not include $999 pre-delivery service fee, $178.95 electronic tag registration service fee, and does not include dealer installed options. Pre-delivery service fee represents costs and profit to the dealer for items such as inspecting, cleaning, adjusting vehicles, and preparing documents related to the sale. The MSRP is provided for informational purposes only and may not reflect the actual selling price of the vehicle. Call dealer for actual sales price.\\n      \\n    SARASOTA AREA NEW & USED CAR DEALERSHIP SERVING THE VENICE, PORT CHARLOTTE, BRADENTON & PUNTA GORDA, FL REGION                                                                                                                                                                                                                                                                                                                                                                                                                                                                                                                                                                                                                                                                                                                                                                                                                                                                                                                                                                                                                                                                                                                                             1\n",
      "\\n      \\n        Silver Zynith Metallic Clearcoat 2024 Jeep Compass Limited 4WD 8-Speed Automatic 2.0L I4 DOHC CLEAN CARFAX, ONE OWNER, NEW PA STATE INSPECTION, FULLY RECONDITIONED, SUNROOF/MOONROOF, PANORAMIC SUNROOF, BACK UP CAMERA, 4WD, 4-Wheel Disc Brakes, 6 Speakers, ABS brakes, Adaptive Cruise Control with Stop and Go, Air Conditioning, Alloy wheels, Automatic temperature control, Brake assist, Dual front impact airbags, Dual front side impact airbags, Electronic Stability Control, Front dual zone A/C, Heated front seats, Knee airbag, Leather steering wheel, Occupant sensing airbag, Overhead airbag, ParkView Rear Back-Up Camera, Power Front/Fixed Rear Full Sunroof, Premium Alpine Speaker System, Quick Order Package 29G Limited, Remote keyless entry, Security system, SiriusXM Radio Service, Sun and Sound Group. We make car buying easy, simple, and stress-free! Check us out online and see our full inventory of over 1000 Pre-Owned Vehicles! Call today to schedule a no-hassle test drive! 215-536-1009 Advertised Internet Prices are after $1,995 down payment and financing with dealership partnered leaders. 24/32 City/Highway MPG\\n      \\n                                                                                                                                                                                                                                                                                                                                                                                                                                                                                                                                                                                                                                                                                                                                                                                                                                                                                                                                                                                                                                                                                                                                                                                                                                                 1\n",
      "Ultimate red 2024 Hyundai Sonata Hybrid SEL FWD 6-Speed Automatic with Shiftronic I4 44/51 City/Highway MPG                                                                                                                                                                                                                                                                                                                                                                                                                                                                                                                                                                                                                                                                                                                                                                                                                                                                                                                                                                                                                                                                                                                                                                                                                                                                                                                                                                                                                                                                                                                                                                                                                                                                                                                                                                                                                                                                                                                                                                                                                                                                                                                                                                                                                                                                                                                                           1\n",
      "\\n      \\n        Lane Keeping Assist, WiFi Hotspot, Onboard Communications System, iPod/MP3 Input, Satellite Radio, All Wheel Drive, Turbo Charged Engine. SUMMIT WHITE exterior and MEDIUM ASH GRAY interior. FUEL EFFICIENT 30 MPG Hwy/24 MPG City! AND MORE!======KEY FEATURES INCLUDE: All Wheel Drive, Back-Up Camera, Satellite Radio, iPod/MP3 Input, Onboard Communications System, WiFi Hotspot, Lane Keeping Assist. MP3 Player, Keyless Entry, Child Safety Locks, Steering Wheel Controls, Electronic Stability Control. ======OPTION PACKAGES: LS CONVENIENCE PACKAGE includes (AG1) 8-way power driver seat adjuster, (AL9) 2-way power driver lumbar control, (UDD) enhanced multi-color driver information display and (AKO) deep-tinted rear glass, MIDNIGHT EDITION includes (REY) 18 Gloss Black aluminum wheels, (RUB) 18 all-season blackwall tires, (CG6) front and rear Black bowtie emblems, (DP6) body-color mirror caps and (TL6) unique mold-in-color Black grille and mesh, REMOTE START, AUDIO SYSTEM, CHEVROLET INFOTAINMENT 3 SYSTEM, 7 DIAGONAL COLOR TOUCHSCREEN, AM/FM STEREO. Additional features for compatible phones include: Bluetooth® audio streaming for 2 active devices, voice command pass-through to phone, Apple CarPlay® and Android Auto® capable. (STD), ENGINE, 1.5L TURBO DOHC 4-CYLINDER, SIDI, VVT (STD), TRANSMISSION, 6-SPEED AUTOMATIC, ELECTRONICALLY-CONTROLLED WITH OVERDRIVE includes Driver Shift Control (STD). Chevrolet LS with SUMMIT WHITE exterior and MEDIUM ASH GRAY interior features a 4 Cylinder Engine with 175 HP at 5600 RPM. ======EXPERTS REPORT: Great Gas Mileage: 30 MPG Hwy. ======VISIT US TODAY: Chevrolet GMC of Fairbanks sells new, certified pre-owned and used cars, trucks and SUVs in Fairbanks, Alaska. We offer financing options and incentives for all North Star Borough Chevrolet and GMC customers. Our inventory includes the most popular Chevy models, with always plenty in stock to choose from. Schedule a test drive at Chevrolet GMC of Fairbanks today! Plus tax, title and license. Prices include $200 dealer doc fee. See dealer for Stock Numbers. Price contains all applicable dealer incentives and non-limited factory rebates. You may qualify for additional rebates; see dealer for details.\\n      \\n    The prices shown above may vary from region to region as new vehicle incentives may depend on buyer's residence.     1\n",
      "01u 2024 Chevrolet Silverado 2500HD Work Truck RWD 10-Speed Automatic 6.6L V8 10-Speed Automatic, Jet Black Vinyl. Price includes: $500 - GM Rewards Card Sign Up and Spend Offer. Exp. 04/01/2024.Penske Chevrolet \"Bottom Line Pricing on ALL Vehicles\"                                                                                                                                                                                                                                                                                                                                                                                                                                                                                                                                                                                                                                                                                                                                                                                                                                                                                                                                                                                                                                                                                                                                                                                                                                                                                                                                                                                                                                                                                                                                                                                                                                                                                                                                                                                                                                                                                                                                                                                                                                                                                                                                                                                             1\n",
      "Name: count, Length: 761, dtype: int64\n",
      "****************************************\n",
      "make\n",
      "Jeep             194\n",
      "Hyundai          121\n",
      "Dodge            117\n",
      "Ford              88\n",
      "RAM               79\n",
      "Kia               52\n",
      "Chevrolet         49\n",
      "Nissan            40\n",
      "Volkswagen        38\n",
      "Mazda             38\n",
      "Mercedes-Benz     30\n",
      "GMC               23\n",
      "Honda             22\n",
      "BMW               19\n",
      "Audi              16\n",
      "Acura             12\n",
      "Chrysler          12\n",
      "Cadillac          10\n",
      "Subaru             8\n",
      "Toyota             8\n",
      "Buick              8\n",
      "INFINITI           5\n",
      "Land Rover         4\n",
      "Volvo              3\n",
      "Lincoln            2\n",
      "Genesis            2\n",
      "Lexus              1\n",
      "Jaguar             1\n",
      "Name: count, dtype: int64\n",
      "****************************************\n",
      "model\n",
      "Hornet            65\n",
      "3500              52\n",
      "Compass           47\n",
      "Durango           41\n",
      "CX-90 PHEV        34\n",
      "                  ..\n",
      "SQ8 e-tron         1\n",
      "Sorento Hybrid     1\n",
      "Bronco             1\n",
      "740                1\n",
      "Forte              1\n",
      "Name: count, Length: 153, dtype: int64\n",
      "****************************************\n",
      "engine\n",
      "16V GDI DOHC Turbo                                           132\n",
      "c                                                             95\n",
      "16V GDI DOHC Turbo Hybrid                                     94\n",
      "24V MPFI DOHC                                                 56\n",
      "16V MPFI OHV                                                  48\n",
      "                                                            ... \n",
      "ne 3L I-6 gasoline direct injection, DOHC, variable valve      1\n",
      "ream 2.5L I-4 port/direct injection, DOHC, CVVT variable       1\n",
      "6 DOHC, VVT variable valve control, engine with cylinder       1\n",
      "24V DOHC                                                       1\n",
      "8 gasoline direct injection, variable valve control, regu      1\n",
      "Name: count, Length: 100, dtype: int64\n",
      "****************************************\n",
      "fuel\n",
      "Gasoline                671\n",
      "Hybrid                  137\n",
      "Electric                 99\n",
      "Diesel                   73\n",
      "PHEV Hybrid Fuel         16\n",
      "E85 Flex Fuel             5\n",
      "Diesel (B20 capable)      1\n",
      "Name: count, dtype: int64\n",
      "****************************************\n",
      "transmission\n",
      "8-Speed Automatic                              327\n",
      "Automatic                                      236\n",
      "6-Speed Automatic                               98\n",
      "1-Speed Automatic                               69\n",
      "9-Speed Automatic                               62\n",
      "10-Speed Automatic                              58\n",
      "Automatic CVT                                   45\n",
      "8-Speed Automatic with Auto-Shift               17\n",
      "7-Speed DSGA? Automatic w/ 4MO                  11\n",
      "8-Speed Automatic with Tiptronic                10\n",
      "CVT                                              9\n",
      "6-Spd Aisin F21-250 PHEV Auto Trans              7\n",
      "8-speed automatic                                5\n",
      "8-Speed A/T                                      4\n",
      "7-Speed Automatic with Auto-Shift                4\n",
      "6-Speed Automatic Electronic with Overdrive      4\n",
      "9-Speed 948TE Automatic                          4\n",
      "7-Speed Automatic S tronic                       4\n",
      "7-Speed DSG Automatic with Tiptronic             4\n",
      "Variable                                         3\n",
      "9 Spd Automatic                                  2\n",
      "Aisin 6-Speed Automatic                          2\n",
      "CVT with Xtronic                                 2\n",
      "6-Speed DCT Automatic                            1\n",
      "10-Speed Automatic with Overdrive                1\n",
      "8 Speed Dual Clutch                              1\n",
      "(CVT) CONT VAR.                                  1\n",
      "6-Speed A/T                                      1\n",
      "1-Speed CVT with Overdrive                       1\n",
      "9-Speed A/T                                      1\n",
      "8-Speed Shiftable Automatic                      1\n",
      "A/T                                              1\n",
      "automatic w/paddle shifters                      1\n",
      "6-SPEED AUTOMATIC                                1\n",
      "9-speed automatic                                1\n",
      "10-Speed Shiftable Automatic                     1\n",
      "62 kWh battery                                   1\n",
      "8-Speed Automatic Sport                          1\n",
      "Name: count, dtype: int64\n",
      "****************************************\n",
      "trim\n",
      "Limited                                      70\n",
      "Base                                         56\n",
      "Pursuit                                      35\n",
      "SEL                                          33\n",
      "Latitude                                     29\n",
      "                                             ..\n",
      "quattro                                       1\n",
      "Premium 55 TFSI e S line quattro S tronic     1\n",
      "FWD RS                                        1\n",
      "Longhorn                                      1\n",
      "SV Intelligent AWD                            1\n",
      "Name: count, Length: 197, dtype: int64\n",
      "****************************************\n",
      "body\n",
      "SUV              707\n",
      "Pickup Truck     154\n",
      "Sedan             80\n",
      "Cargo Van         36\n",
      "Passenger Van     13\n",
      "Hatchback         10\n",
      "Convertible        1\n",
      "Minivan            1\n",
      "Name: count, dtype: int64\n",
      "****************************************\n",
      "exterior_color\n",
      "Bright White Clearcoat    86\n",
      "Black                     32\n",
      "White                     29\n",
      "Gray                      27\n",
      "Diamond Black             26\n",
      "                          ..\n",
      "Uyuni White                1\n",
      "Artisan Red Metallic       1\n",
      "Eiger Grey                 1\n",
      "Alpine Gray                1\n",
      "Wheatland Yellow           1\n",
      "Name: count, Length: 263, dtype: int64\n",
      "****************************************\n",
      "interior_color\n",
      "Black           548\n",
      "Global Black     84\n",
      "Gray             77\n",
      "Jet Black        45\n",
      "Ebony            43\n",
      "               ... \n",
      "Gray / Black      1\n",
      "Oyster            1\n",
      "Tupelo/Black      1\n",
      "Melange           1\n",
      "Navy Pier         1\n",
      "Name: count, Length: 91, dtype: int64\n",
      "****************************************\n",
      "drivetrain\n",
      "All-wheel Drive      461\n",
      "Four-wheel Drive     328\n",
      "Front-wheel Drive    138\n",
      "Rear-wheel Drive      75\n",
      "Name: count, dtype: int64\n",
      "****************************************\n"
     ]
    }
   ],
   "source": [
    "for col in (categorical_col.tolist()):\n",
    "    print(df[col].value_counts())\n",
    "    print('*' * 40)"
   ]
  },
  {
   "cell_type": "code",
   "execution_count": 223,
   "id": "00a54329",
   "metadata": {
    "execution": {
     "iopub.execute_input": "2025-08-06T12:21:13.404002Z",
     "iopub.status.busy": "2025-08-06T12:21:13.403615Z",
     "iopub.status.idle": "2025-08-06T12:21:14.671009Z",
     "shell.execute_reply": "2025-08-06T12:21:14.670040Z"
    },
    "papermill": {
     "duration": 1.278926,
     "end_time": "2025-08-06T12:21:14.672555",
     "exception": false,
     "start_time": "2025-08-06T12:21:13.393629",
     "status": "completed"
    },
    "tags": []
   },
   "outputs": [
    {
     "data": {
      "image/png": "[encoded data removed]",
      "text/plain": [
       "<Figure size 800x600 with 1 Axes>"
      ]
     },
     "metadata": {},
     "output_type": "display_data"
    },
    {
     "data": {
      "image/png": "[encoded data removed]",
      "text/plain": [
       "<Figure size 800x600 with 1 Axes>"
      ]
     },
     "metadata": {},
     "output_type": "display_data"
    },
    {
     "data": {
      "image/png": "[encoded data removed]",
      "text/plain": [
       "<Figure size 800x600 with 1 Axes>"
      ]
     },
     "metadata": {},
     "output_type": "display_data"
    },
    {
     "data": {
      "image/png": "[encoded data removed]",
      "text/plain": [
       "<Figure size 800x600 with 1 Axes>"
      ]
     },
     "metadata": {},
     "output_type": "display_data"
    },
    {
     "data": {
      "image/png": "[encoded data removed]",
      "text/plain": [
       "<Figure size 800x600 with 1 Axes>"
      ]
     },
     "metadata": {},
     "output_type": "display_data"
    }
   ],
   "source": [
    "for col in numeric_col:\n",
    "    plt.figure(figsize=(8,6))\n",
    "    sns.histplot(x=df[col],data=df,bins=20)\n",
    "    plt.title(f'Distribution of {col}')\n",
    "    plt.show()"
   ]
  },
  {
   "cell_type": "code",
   "execution_count": 224,
   "id": "0b64abeb",
   "metadata": {
    "execution": {
     "iopub.execute_input": "2025-08-06T12:21:14.694355Z",
     "iopub.status.busy": "2025-08-06T12:21:14.694004Z",
     "iopub.status.idle": "2025-08-06T12:21:14.702518Z",
     "shell.execute_reply": "2025-08-06T12:21:14.701258Z"
    },
    "papermill": {
     "duration": 0.021132,
     "end_time": "2025-08-06T12:21:14.704229",
     "exception": false,
     "start_time": "2025-08-06T12:21:14.683097",
     "status": "completed"
    },
    "tags": []
   },
   "outputs": [],
   "source": [
    "# Calculate correlation matrix for numerical features\n",
    "corr_matrix = df[numeric_col].corr()"
   ]
  },
  {
   "cell_type": "code",
   "execution_count": 225,
   "id": "954d19dc",
   "metadata": {
    "execution": {
     "iopub.execute_input": "2025-08-06T12:21:14.726336Z",
     "iopub.status.busy": "2025-08-06T12:21:14.726023Z",
     "iopub.status.idle": "2025-08-06T12:21:15.044000Z",
     "shell.execute_reply": "2025-08-06T12:21:15.043013Z"
    },
    "papermill": {
     "duration": 0.331771,
     "end_time": "2025-08-06T12:21:15.046117",
     "exception": false,
     "start_time": "2025-08-06T12:21:14.714346",
     "status": "completed"
    },
    "tags": []
   },
   "outputs": [
    {
     "data": {
      "image/png": "[encoded data removed]",
      "text/plain": [
       "<Figure size 1200x1000 with 2 Axes>"
      ]
     },
     "metadata": {},
     "output_type": "display_data"
    }
   ],
   "source": [
    "plt.figure(figsize=(12,10))\n",
    "sns.heatmap(corr_matrix,annot=True,fmt='.2f',square=True,cmap='coolwarm')\n",
    "plt.title('Distribution of Numerical columns')\n",
    "plt.show()"
   ]
  },
  {
   "cell_type": "code",
   "execution_count": 226,
   "id": "ac0a6828",
   "metadata": {
    "execution": {
     "iopub.execute_input": "2025-08-06T12:21:15.070968Z",
     "iopub.status.busy": "2025-08-06T12:21:15.070440Z",
     "iopub.status.idle": "2025-08-06T12:21:15.075519Z",
     "shell.execute_reply": "2025-08-06T12:21:15.074064Z"
    },
    "papermill": {
     "duration": 0.019925,
     "end_time": "2025-08-06T12:21:15.077049",
     "exception": false,
     "start_time": "2025-08-06T12:21:15.057124",
     "status": "completed"
    },
    "tags": []
   },
   "outputs": [],
   "source": [
    "target_col = 'price'"
   ]
  },
  {
   "cell_type": "code",
   "execution_count": 227,
   "id": "8295a050",
   "metadata": {
    "execution": {
     "iopub.execute_input": "2025-08-06T12:21:15.101002Z",
     "iopub.status.busy": "2025-08-06T12:21:15.100673Z",
     "iopub.status.idle": "2025-08-06T12:21:15.107550Z",
     "shell.execute_reply": "2025-08-06T12:21:15.106472Z"
    },
    "papermill": {
     "duration": 0.020207,
     "end_time": "2025-08-06T12:21:15.109050",
     "exception": false,
     "start_time": "2025-08-06T12:21:15.088843",
     "status": "completed"
    },
    "tags": []
   },
   "outputs": [
    {
     "name": "stdout",
     "output_type": "stream",
     "text": [
      "\n",
      " Correlation with target variable:\n",
      "price        1.000000\n",
      "cylinders    0.357229\n",
      "mileage      0.076750\n",
      "year         0.011891\n",
      "doors       -0.069782\n",
      "Name: price, dtype: float64\n"
     ]
    }
   ],
   "source": [
    "correlation_with_target = corr_matrix[target_col].sort_values(ascending=False)\n",
    "print(\"\\n Correlation with target variable:\")\n",
    "print(correlation_with_target)"
   ]
  },
  {
   "cell_type": "code",
   "execution_count": 228,
   "id": "10fddc43",
   "metadata": {
    "execution": {
     "iopub.execute_input": "2025-08-06T12:21:15.262684Z",
     "iopub.status.busy": "2025-08-06T12:21:15.262338Z",
     "iopub.status.idle": "2025-08-06T12:21:15.278686Z",
     "shell.execute_reply": "2025-08-06T12:21:15.277695Z"
    },
    "papermill": {
     "duration": 0.029828,
     "end_time": "2025-08-06T12:21:15.280224",
     "exception": false,
     "start_time": "2025-08-06T12:21:15.250396",
     "status": "completed"
    },
    "tags": []
   },
   "outputs": [
    {
     "data": {
      "text/html": [
       "<div>\n",
       "<style scoped>\n",
       "    .dataframe tbody tr th:only-of-type {\n",
       "        vertical-align: middle;\n",
       "    }\n",
       "\n",
       "    .dataframe tbody tr th {\n",
       "        vertical-align: top;\n",
       "    }\n",
       "\n",
       "    .dataframe thead th {\n",
       "        text-align: right;\n",
       "    }\n",
       "</style>\n",
       "<table border=\"1\" class=\"dataframe\">\n",
       "  <thead>\n",
       "    <tr style=\"text-align: right;\">\n",
       "      <th></th>\n",
       "      <th>name</th>\n",
       "      <th>description</th>\n",
       "      <th>make</th>\n",
       "      <th>model</th>\n",
       "      <th>year</th>\n",
       "      <th>price</th>\n",
       "      <th>engine</th>\n",
       "      <th>cylinders</th>\n",
       "      <th>fuel</th>\n",
       "      <th>mileage</th>\n",
       "      <th>transmission</th>\n",
       "      <th>trim</th>\n",
       "      <th>body</th>\n",
       "      <th>doors</th>\n",
       "      <th>exterior_color</th>\n",
       "      <th>interior_color</th>\n",
       "      <th>drivetrain</th>\n",
       "    </tr>\n",
       "  </thead>\n",
       "  <tbody>\n",
       "    <tr>\n",
       "      <th>0</th>\n",
       "      <td>2024 Jeep Wagoneer Series II</td>\n",
       "      <td>\\n      \\n        Heated Leather Seats, Nav Sy...</td>\n",
       "      <td>Jeep</td>\n",
       "      <td>Wagoneer</td>\n",
       "      <td>2024</td>\n",
       "      <td>74600.0</td>\n",
       "      <td>24V GDI DOHC Twin Turbo</td>\n",
       "      <td>6.0</td>\n",
       "      <td>Gasoline</td>\n",
       "      <td>10.0</td>\n",
       "      <td>8-Speed Automatic</td>\n",
       "      <td>Series II</td>\n",
       "      <td>SUV</td>\n",
       "      <td>4.0</td>\n",
       "      <td>White</td>\n",
       "      <td>Global Black</td>\n",
       "      <td>Four-wheel Drive</td>\n",
       "    </tr>\n",
       "    <tr>\n",
       "      <th>1</th>\n",
       "      <td>2024 Jeep Grand Cherokee Laredo</td>\n",
       "      <td>Al West is committed to offering every custome...</td>\n",
       "      <td>Jeep</td>\n",
       "      <td>Grand Cherokee</td>\n",
       "      <td>2024</td>\n",
       "      <td>50170.0</td>\n",
       "      <td>OHV</td>\n",
       "      <td>6.0</td>\n",
       "      <td>Gasoline</td>\n",
       "      <td>1.0</td>\n",
       "      <td>8-Speed Automatic</td>\n",
       "      <td>Laredo</td>\n",
       "      <td>SUV</td>\n",
       "      <td>4.0</td>\n",
       "      <td>Metallic</td>\n",
       "      <td>Global Black</td>\n",
       "      <td>Four-wheel Drive</td>\n",
       "    </tr>\n",
       "    <tr>\n",
       "      <th>2</th>\n",
       "      <td>2024 GMC Yukon XL Denali</td>\n",
       "      <td>\\n      \\n        .\\n      \\n</td>\n",
       "      <td>GMC</td>\n",
       "      <td>Yukon XL</td>\n",
       "      <td>2024</td>\n",
       "      <td>96410.0</td>\n",
       "      <td>6.2L V-8 gasoline direct injection, variable v...</td>\n",
       "      <td>8.0</td>\n",
       "      <td>Gasoline</td>\n",
       "      <td>0.0</td>\n",
       "      <td>Automatic</td>\n",
       "      <td>Denali</td>\n",
       "      <td>SUV</td>\n",
       "      <td>4.0</td>\n",
       "      <td>Summit White</td>\n",
       "      <td>Teak/Light Shale</td>\n",
       "      <td>Four-wheel Drive</td>\n",
       "    </tr>\n",
       "    <tr>\n",
       "      <th>3</th>\n",
       "      <td>2023 Dodge Durango Pursuit</td>\n",
       "      <td>White Knuckle Clearcoat 2023 Dodge Durango Pur...</td>\n",
       "      <td>Dodge</td>\n",
       "      <td>Durango</td>\n",
       "      <td>2023</td>\n",
       "      <td>46835.0</td>\n",
       "      <td>16V MPFI OHV</td>\n",
       "      <td>8.0</td>\n",
       "      <td>Gasoline</td>\n",
       "      <td>32.0</td>\n",
       "      <td>8-Speed Automatic</td>\n",
       "      <td>Pursuit</td>\n",
       "      <td>SUV</td>\n",
       "      <td>4.0</td>\n",
       "      <td>White Knuckle Clearcoat</td>\n",
       "      <td>Black</td>\n",
       "      <td>All-wheel Drive</td>\n",
       "    </tr>\n",
       "    <tr>\n",
       "      <th>4</th>\n",
       "      <td>2024 RAM 3500 Laramie</td>\n",
       "      <td>\\n      \\n        2024 Ram 3500 Laramie Billet...</td>\n",
       "      <td>RAM</td>\n",
       "      <td>3500</td>\n",
       "      <td>2024</td>\n",
       "      <td>81663.0</td>\n",
       "      <td>24V DDI OHV Turbo Diesel</td>\n",
       "      <td>6.0</td>\n",
       "      <td>Diesel</td>\n",
       "      <td>10.0</td>\n",
       "      <td>6-Speed Automatic</td>\n",
       "      <td>Laramie</td>\n",
       "      <td>Pickup Truck</td>\n",
       "      <td>4.0</td>\n",
       "      <td>Silver</td>\n",
       "      <td>Black</td>\n",
       "      <td>Four-wheel Drive</td>\n",
       "    </tr>\n",
       "  </tbody>\n",
       "</table>\n",
       "</div>"
      ],
      "text/plain": [
       "                              name  \\\n",
       "0     2024 Jeep Wagoneer Series II   \n",
       "1  2024 Jeep Grand Cherokee Laredo   \n",
       "2         2024 GMC Yukon XL Denali   \n",
       "3       2023 Dodge Durango Pursuit   \n",
       "4            2024 RAM 3500 Laramie   \n",
       "\n",
       "                                         description   make           model  \\\n",
       "0  \\n      \\n        Heated Leather Seats, Nav Sy...   Jeep        Wagoneer   \n",
       "1  Al West is committed to offering every custome...   Jeep  Grand Cherokee   \n",
       "2                  \\n      \\n        .\\n      \\n        GMC        Yukon XL   \n",
       "3  White Knuckle Clearcoat 2023 Dodge Durango Pur...  Dodge         Durango   \n",
       "4  \\n      \\n        2024 Ram 3500 Laramie Billet...    RAM            3500   \n",
       "\n",
       "   year    price                                             engine  \\\n",
       "0  2024  74600.0                            24V GDI DOHC Twin Turbo   \n",
       "1  2024  50170.0                                                OHV   \n",
       "2  2024  96410.0  6.2L V-8 gasoline direct injection, variable v...   \n",
       "3  2023  46835.0                                       16V MPFI OHV   \n",
       "4  2024  81663.0                           24V DDI OHV Turbo Diesel   \n",
       "\n",
       "   cylinders      fuel  mileage       transmission       trim          body  \\\n",
       "0        6.0  Gasoline     10.0  8-Speed Automatic  Series II           SUV   \n",
       "1        6.0  Gasoline      1.0  8-Speed Automatic     Laredo           SUV   \n",
       "2        8.0  Gasoline      0.0          Automatic     Denali           SUV   \n",
       "3        8.0  Gasoline     32.0  8-Speed Automatic    Pursuit           SUV   \n",
       "4        6.0    Diesel     10.0  6-Speed Automatic    Laramie  Pickup Truck   \n",
       "\n",
       "   doors           exterior_color    interior_color        drivetrain  \n",
       "0    4.0                    White      Global Black  Four-wheel Drive  \n",
       "1    4.0                 Metallic      Global Black  Four-wheel Drive  \n",
       "2    4.0             Summit White  Teak/Light Shale  Four-wheel Drive  \n",
       "3    4.0  White Knuckle Clearcoat             Black   All-wheel Drive  \n",
       "4    4.0                   Silver             Black  Four-wheel Drive  "
      ]
     },
     "execution_count": 228,
     "metadata": {},
     "output_type": "execute_result"
    }
   ],
   "source": [
    "df.head()"
   ]
  },
  {
   "cell_type": "code",
   "execution_count": 229,
   "id": "16671744",
   "metadata": {
    "execution": {
     "iopub.execute_input": "2025-08-06T12:21:15.307505Z",
     "iopub.status.busy": "2025-08-06T12:21:15.307133Z",
     "iopub.status.idle": "2025-08-06T12:21:15.313371Z",
     "shell.execute_reply": "2025-08-06T12:21:15.312353Z"
    },
    "papermill": {
     "duration": 0.02211,
     "end_time": "2025-08-06T12:21:15.315188",
     "exception": false,
     "start_time": "2025-08-06T12:21:15.293078",
     "status": "completed"
    },
    "tags": []
   },
   "outputs": [],
   "source": [
    "X=df.drop(columns='price')\n",
    "Y=df['price']"
   ]
  },
  {
   "cell_type": "code",
   "execution_count": 240,
   "id": "35faf307",
   "metadata": {},
   "outputs": [],
   "source": [
    "Numeric_columns = ['year','cylinders', 'mileage','doors']\n",
    "\n",
    "\n",
    "Categorical_columns = ['name', 'description', 'make', 'model', 'engine', 'fuel', 'transmission', 'trim', 'body', 'exterior_color', 'interior_color', 'drivetrain']\n"
   ]
  },
  {
   "cell_type": "code",
   "execution_count": 241,
   "id": "9185f853",
   "metadata": {},
   "outputs": [],
   "source": [
    "# Preprocessing for numeric columns\n",
    "numeric_transformer = Pipeline(steps=[\n",
    "    ('imputer', SimpleImputer(strategy='mean')),\n",
    "    ('scaler', StandardScaler())\n",
    "])"
   ]
  },
  {
   "cell_type": "code",
   "execution_count": 242,
   "id": "035f72dc",
   "metadata": {},
   "outputs": [],
   "source": [
    "# Preprocessing for categorical columns\n",
    "categorical_transformer = Pipeline(steps=[\n",
    "    ('imputer', SimpleImputer(strategy='most_frequent')),\n",
    "    ('onehot', OneHotEncoder(handle_unknown='ignore'))\n",
    "])"
   ]
  },
  {
   "cell_type": "code",
   "execution_count": 243,
   "id": "97f82305",
   "metadata": {},
   "outputs": [],
   "source": [
    "# Combine both into a ColumnTransformer\n",
    "preprocessor = ColumnTransformer(\n",
    "    transformers=[\n",
    "        ('num', numeric_transformer, Numeric_columns),\n",
    "        ('cat', categorical_transformer, Categorical_columns)\n",
    "    ]\n",
    ")\n"
   ]
  },
  {
   "cell_type": "code",
   "execution_count": 244,
   "id": "5b90ef0b",
   "metadata": {},
   "outputs": [],
   "source": [
    "models = {\n",
    "    \"linear_regression\": LinearRegression(),\n",
    "    \"random_forest\": RandomForestRegressor(n_estimators=100, random_state=42),\n",
    "    \"xgboost\": xgb.XGBRegressor(n_estimators=100, learning_rate=0.1, random_state=42)\n",
    "}"
   ]
  },
  {
   "cell_type": "code",
   "execution_count": 245,
   "id": "892236fa",
   "metadata": {
    "execution": {
     "iopub.execute_input": "2025-08-06T12:21:15.645837Z",
     "iopub.status.busy": "2025-08-06T12:21:15.645365Z",
     "iopub.status.idle": "2025-08-06T12:21:15.669872Z",
     "shell.execute_reply": "2025-08-06T12:21:15.668879Z"
    },
    "papermill": {
     "duration": 0.038789,
     "end_time": "2025-08-06T12:21:15.671740",
     "exception": false,
     "start_time": "2025-08-06T12:21:15.632951",
     "status": "completed"
    },
    "tags": []
   },
   "outputs": [],
   "source": [
    "from sklearn.model_selection import train_test_split\n",
    "\n",
    "X_train, X_test, y_train, y_test = train_test_split(X, Y, test_size=0.2, random_state=42)"
   ]
  },
  {
   "cell_type": "code",
   "execution_count": 246,
   "id": "8e463971",
   "metadata": {},
   "outputs": [
    {
     "name": "stdout",
     "output_type": "stream",
     "text": [
      "\n",
      "linear_regression Performance:\n",
      "R2 Score: 0.4698\n",
      "MAE: 5346.44\n",
      "RMSE: 11625.55\n",
      "\n",
      "random_forest Performance:\n",
      "R2 Score: 0.8124\n",
      "MAE: 3898.55\n",
      "RMSE: 6914.64\n",
      "\n",
      "xgboost Performance:\n",
      "R2 Score: 0.8131\n",
      "MAE: 4548.14\n",
      "RMSE: 6901.61\n"
     ]
    }
   ],
   "source": [
    "results = {}\n",
    "best_model = None\n",
    "best_score = -np.inf\n",
    "\n",
    "for name, model in models.items():\n",
    "    pipe = Pipeline([\n",
    "        ('preprocessor', preprocessor),\n",
    "        ('model', model)\n",
    "    ])\n",
    "    \n",
    "    pipe.fit(X_train, y_train)\n",
    "    y_pred = pipe.predict(X_test)\n",
    "    \n",
    "    r2 = r2_score(y_test, y_pred)\n",
    "    mae = mean_absolute_error(y_test, y_pred)\n",
    "    rmse = np.sqrt(mean_squared_error(y_test, y_pred))\n",
    "    \n",
    "    results[name] = {\"R2\": r2, \"MAE\": mae, \"RMSE\": rmse}\n",
    "    \n",
    "    print(f\"\\n{name} Performance:\")\n",
    "    print(f\"R2 Score: {r2:.4f}\")\n",
    "    print(f\"MAE: {mae:.2f}\")\n",
    "    print(f\"RMSE: {rmse:.2f}\")\n",
    "    \n",
    "    # Select best model by R²\n",
    "    if r2 > best_score:\n",
    "        best_score = r2\n",
    "        best_model = pipe"
   ]
  },
  {
   "cell_type": "code",
   "execution_count": 247,
   "id": "13638071",
   "metadata": {},
   "outputs": [
    {
     "name": "stdout",
     "output_type": "stream",
     "text": [
      "\n",
      "Best model saved: XGBRegressor\n"
     ]
    },
    {
     "data": {
      "text/plain": [
       "['feature_names.pkl']"
      ]
     },
     "execution_count": 247,
     "metadata": {},
     "output_type": "execute_result"
    }
   ],
   "source": [
    "# Save best model\n",
    "joblib.dump(best_model, \"vehicle_price_prediction.pkl\")\n",
    "print(f\"\\nBest model saved: {type(best_model.named_steps['model']).__name__}\")\n",
    "\n",
    "# Save feature names for app.py\n",
    "joblib.dump(X.columns.tolist(), \"feature_names.pkl\")"
   ]
  },
  {
   "cell_type": "markdown",
   "id": "64437199",
   "metadata": {
    "papermill": {
     "duration": 0.011098,
     "end_time": "2025-08-06T12:21:20.403337",
     "exception": false,
     "start_time": "2025-08-06T12:21:20.392239",
     "status": "completed"
    },
    "tags": []
   },
   "source": [
    "# Model Visualation"
   ]
  },
  {
   "cell_type": "code",
   "execution_count": 248,
   "id": "5902f85f",
   "metadata": {},
   "outputs": [
    {
     "data": {
      "image/png": "[encoded data removed]",
      "text/plain": [
       "<Figure size 800x500 with 1 Axes>"
      ]
     },
     "metadata": {},
     "output_type": "display_data"
    }
   ],
   "source": [
    "import pandas as pd\n",
    "import matplotlib.pyplot as plt\n",
    "import seaborn as sns\n",
    "\n",
    "# Convert results dictionary to DataFrame\n",
    "results_df = pd.DataFrame(results).T.reset_index()\n",
    "results_df.rename(columns={'index': 'Model'}, inplace=True)\n",
    "\n",
    "# Melt DataFrame for grouped bar plot\n",
    "results_melted = results_df.melt(id_vars=\"Model\", \n",
    "                                  value_vars=[\"R2\", \"MAE\", \"RMSE\"],\n",
    "                                  var_name=\"Metric\", \n",
    "                                  value_name=\"Value\")\n",
    "\n",
    "# Plot\n",
    "plt.figure(figsize=(8,5))\n",
    "sns.barplot(data=results_melted, x=\"Model\", y=\"Value\", hue=\"Metric\", palette=\"Set2\")\n",
    "\n",
    "# Add value labels\n",
    "for p in plt.gca().patches:\n",
    "    height = p.get_height()\n",
    "    plt.gca().annotate(f\"{height:.2f}\", \n",
    "                       (p.get_x() + p.get_width() / 2., height),\n",
    "                       ha='center', va='bottom', fontsize=9)\n",
    "\n",
    "plt.title(\"Model Performance Comparison\")\n",
    "plt.ylabel(\"Score / Error\")\n",
    "plt.legend(title=\"Metric\")\n",
    "plt.tight_layout()\n",
    "plt.show()\n",
    "\n"
   ]
  },
  {
   "cell_type": "code",
   "execution_count": 249,
   "id": "00fb26f4",
   "metadata": {},
   "outputs": [
    {
     "name": "stdout",
     "output_type": "stream",
     "text": [
      "name               object\n",
      "description        object\n",
      "make               object\n",
      "model              object\n",
      "year                int64\n",
      "engine             object\n",
      "cylinders         float64\n",
      "fuel               object\n",
      "mileage           float64\n",
      "transmission       object\n",
      "trim               object\n",
      "body               object\n",
      "doors             float64\n",
      "exterior_color     object\n",
      "interior_color     object\n",
      "drivetrain         object\n",
      "dtype: object\n",
      "name              0\n",
      "description       0\n",
      "make              0\n",
      "model             0\n",
      "year              0\n",
      "engine            0\n",
      "cylinders         0\n",
      "fuel              0\n",
      "mileage           0\n",
      "transmission      0\n",
      "trim              0\n",
      "body              0\n",
      "doors             0\n",
      "exterior_color    0\n",
      "interior_color    0\n",
      "drivetrain        0\n",
      "dtype: int64\n"
     ]
    }
   ],
   "source": [
    "import pandas as pd\n",
    "import numpy as np\n",
    "\n",
    "print(X_test.dtypes)  # See which columns are not numeric\n",
    "print(X_test.isnull().sum())  # Check missing values\n"
   ]
  },
  {
   "cell_type": "code",
   "execution_count": null,
   "id": "8a828045",
   "metadata": {},
   "outputs": [],
   "source": []
  }
 ],
 "metadata": {
  "kaggle": {
   "accelerator": "none",
   "dataSources": [
    {
     "datasetId": 7965905,
     "sourceId": 12610544,
     "sourceType": "datasetVersion"
    }
   ],
   "dockerImageVersionId": 31089,
   "isGpuEnabled": false,
   "isInternetEnabled": true,
   "language": "python",
   "sourceType": "notebook"
  },
  "kernelspec": {
   "display_name": "myenv",
   "language": "python",
   "name": "python3"
  },
  "language_info": {
   "codemirror_mode": {
    "name": "ipython",
    "version": 3
   },
   "file_extension": ".py",
   "mimetype": "text/x-python",
   "name": "python",
   "nbconvert_exporter": "python",
   "pygments_lexer": "ipython3",
   "version": "3.10.18"
  },
  "papermill": {
   "default_parameters": {},
   "duration": 19.791762,
   "end_time": "2025-08-06T12:21:22.179511",
   "environment_variables": {},
   "exception": null,
   "input_path": "__notebook__.ipynb",
   "output_path": "__notebook__.ipynb",
   "parameters": {},
   "start_time": "2025-08-06T12:21:02.387749",
   "version": "2.6.0"
  }
 },
 "nbformat": 4,
 "nbformat_minor": 5
}
